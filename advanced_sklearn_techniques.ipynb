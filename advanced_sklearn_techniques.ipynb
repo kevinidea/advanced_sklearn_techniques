{
 "cells": [
  {
   "cell_type": "code",
   "execution_count": 1,
   "id": "61d96dcd",
   "metadata": {},
   "outputs": [
    {
     "name": "stderr",
     "output_type": "stream",
     "text": [
      "<frozen importlib._bootstrap>:219: RuntimeWarning: scipy._lib.messagestream.MessageStream size changed, may indicate binary incompatibility. Expected 56 from C header, got 64 from PyObject\n"
     ]
    }
   ],
   "source": [
    "import pandas as pd\n",
    "import sklearn\n",
    "from sklearn.model_selection import train_test_split, KFold, cross_validate, RandomizedSearchCV\n",
    "from sklearn.base import BaseEstimator, TransformerMixin\n",
    "from sklearn.pipeline import Pipeline\n",
    "from sklearn.linear_model import LinearRegression\n",
    "from sklearn.metrics import mean_absolute_error, r2_score\n",
    "from sklearn.compose import make_column_selector, make_column_transformer\n",
    "from sklearn.preprocessing import StandardScaler\n",
    "from xgboost import XGBRegressor"
   ]
  },
  {
   "cell_type": "code",
   "execution_count": 2,
   "id": "f8476fe5",
   "metadata": {},
   "outputs": [],
   "source": [
    "raw_data = pd.read_excel('data/Copy of clean.xlsx', sheet_name='clean')"
   ]
  },
  {
   "cell_type": "markdown",
   "id": "6b2d9efe",
   "metadata": {},
   "source": [
    "# Preprocessing"
   ]
  },
  {
   "cell_type": "code",
   "execution_count": 3,
   "id": "3a3acc85",
   "metadata": {},
   "outputs": [],
   "source": [
    "X = raw_data.drop(['WIWO'], axis=1)\n",
    "y = raw_data['WIWO']"
   ]
  },
  {
   "cell_type": "code",
   "execution_count": 4,
   "id": "32c3d1d9",
   "metadata": {},
   "outputs": [],
   "source": [
    "X_train, X_test, y_train, y_test = train_test_split(X, y, random_state=101, test_size=0.1)"
   ]
  },
  {
   "cell_type": "markdown",
   "id": "0631002b",
   "metadata": {},
   "source": [
    "# Transformation"
   ]
  },
  {
   "cell_type": "markdown",
   "id": "218e51ed",
   "metadata": {},
   "source": [
    "## Mapping and other constant variables"
   ]
  },
  {
   "cell_type": "code",
   "execution_count": 5,
   "id": "d8b87800",
   "metadata": {},
   "outputs": [],
   "source": [
    "DOW_MAPPING = ({\n",
    "    '月': 1,\n",
    "    '火': 2,\n",
    "    '水': 3,\n",
    "    '木': 4,\n",
    "    '金': 5,\n",
    "    '土': 6,\n",
    "    '日': 7,\n",
    "})"
   ]
  },
  {
   "cell_type": "code",
   "execution_count": 6,
   "id": "3776cb6e",
   "metadata": {},
   "outputs": [],
   "source": [
    "UNIQUE_ID = ['surgery_id']"
   ]
  },
  {
   "cell_type": "code",
   "execution_count": 7,
   "id": "170bf9e3",
   "metadata": {},
   "outputs": [],
   "source": [
    "INITIAL_FEATURES = [\n",
    "    'dow', \n",
    "    'surgery_classification_name',\n",
    "    'surgery_department_code',\n",
    "    'surgery_diagnosis_code', \n",
    "    'surgery_diagnosis_code2', \n",
    "    'surgery_diagnosis_code3', \n",
    "    'surgery_diagnosis_code4', \n",
    "    'surgery_diagnosis_code5',\n",
    "    'surgery_internal_code',\n",
    "    'surgery_internal_code2',\n",
    "    'surgery_internal_code3',\n",
    "    'surgery_internal_code4',\n",
    "    'surgery_anes_method_code',\n",
    "    'or_vendor_code',\n",
    "    # 'or_reservation_entry_time',\n",
    "    'or_reservation_operation_duration',\n",
    "    'staff_main_surgeon_name', \n",
    "    'staff_main_surgeon_name2',\n",
    "    'staff_main_surgeon_name3', \n",
    "    'staff_main_surgeon_name4',\n",
    "    'staff_main_surgeon_name5', \n",
    "    'staff_main_surgeon_name6',\n",
    "    'staff_main_surgeon_name7', \n",
    "    'staff_main_surgeon_name8',\n",
    "    'surgeon_anes_name1', \n",
    "    'surgeon_anes_name2', \n",
    "    'surgeon_anes_name3',\n",
    "    'surgeon_anes_name4', \n",
    "    'surgeon_anes_name5', \n",
    "    'scrub_nurse_name1',\n",
    "    'scrub_nurse_name2', \n",
    "    'scrub_nurse_name3', \n",
    "    'scrub_nurse_name4',\n",
    "    'circulating_nurse_name1', \n",
    "    'circulating_nurse_name2',\n",
    "    'circulating_nurse_name3', \n",
    "    'circulating_nurse_name4',\n",
    "    'surgery_ward_code', \n",
    "    'surgery_position_code2',\n",
    "    'surgery_position_name',\n",
    "    'surgery_equipment_vendor_code1',\n",
    "    'surgery_equipment_vendor_code2',\n",
    "    'surgery_equipment_vendor_code3',\n",
    "    'surgery_equipment_vendor_code4',\n",
    "    'surgery_equipment_vendor_code5',\n",
    "    'surgery_equipment_vendor_code6',\n",
    "    'surgery_equipment_vendor_code7',\n",
    "    'surgery_equipment_vendor_code8',\n",
    "    'on_call', 'cancel',\n",
    "    'wom', 'month', 'year',\n",
    "]"
   ]
  },
  {
   "cell_type": "code",
   "execution_count": 8,
   "id": "29469860",
   "metadata": {},
   "outputs": [],
   "source": [
    "SURGERY_DIAGNOSIS_CODES = [\n",
    "    'surgery_diagnosis_code', \n",
    "    'surgery_diagnosis_code2', \n",
    "    'surgery_diagnosis_code3', \n",
    "    'surgery_diagnosis_code4', \n",
    "    'surgery_diagnosis_code5',\n",
    "] "
   ]
  },
  {
   "cell_type": "code",
   "execution_count": 9,
   "id": "b773a79d",
   "metadata": {},
   "outputs": [],
   "source": [
    "SURGERY_INTERNAL_CODES = [\n",
    "    'surgery_internal_code',\n",
    "    'surgery_internal_code2',\n",
    "    'surgery_internal_code3',\n",
    "    'surgery_internal_code4',\n",
    "]"
   ]
  },
  {
   "cell_type": "code",
   "execution_count": 10,
   "id": "d1b19f99",
   "metadata": {},
   "outputs": [],
   "source": [
    "STAFF_MAIN_SURGEON_NAMES = [\n",
    "    'staff_main_surgeon_name', \n",
    "    'staff_main_surgeon_name2',\n",
    "    'staff_main_surgeon_name3', \n",
    "    'staff_main_surgeon_name4',\n",
    "    'staff_main_surgeon_name5', \n",
    "    'staff_main_surgeon_name6',\n",
    "    'staff_main_surgeon_name7', \n",
    "    'staff_main_surgeon_name8',\n",
    "]"
   ]
  },
  {
   "cell_type": "code",
   "execution_count": 11,
   "id": "b708dcf3",
   "metadata": {},
   "outputs": [],
   "source": [
    "SURGEON_ANES_NAMES = [\n",
    "    'surgeon_anes_name1', \n",
    "    'surgeon_anes_name2', \n",
    "    'surgeon_anes_name3',\n",
    "    'surgeon_anes_name4', \n",
    "    'surgeon_anes_name5',\n",
    "]"
   ]
  },
  {
   "cell_type": "code",
   "execution_count": 12,
   "id": "077dda31",
   "metadata": {},
   "outputs": [],
   "source": [
    "SCRUB_NURSE_NAMES = [\n",
    "    'scrub_nurse_name1',\n",
    "    'scrub_nurse_name2', \n",
    "    'scrub_nurse_name3', \n",
    "    'scrub_nurse_name4',\n",
    "]"
   ]
  },
  {
   "cell_type": "code",
   "execution_count": 13,
   "id": "2cff880b",
   "metadata": {},
   "outputs": [],
   "source": [
    "CIRCULATING_NURSE_NAMES = [\n",
    "    'circulating_nurse_name1', \n",
    "    'circulating_nurse_name2',\n",
    "    'circulating_nurse_name3', \n",
    "    'circulating_nurse_name4',\n",
    "]"
   ]
  },
  {
   "cell_type": "code",
   "execution_count": 14,
   "id": "4e0602ef",
   "metadata": {},
   "outputs": [],
   "source": [
    "SURGERY_EQUIPMENT_VENDOR_CODES = [\n",
    "    'surgery_equipment_vendor_code1',\n",
    "    'surgery_equipment_vendor_code2',\n",
    "    'surgery_equipment_vendor_code3',\n",
    "    'surgery_equipment_vendor_code4',\n",
    "    'surgery_equipment_vendor_code5',\n",
    "    'surgery_equipment_vendor_code6',\n",
    "    'surgery_equipment_vendor_code7',\n",
    "    'surgery_equipment_vendor_code8',\n",
    "]"
   ]
  },
  {
   "cell_type": "code",
   "execution_count": 15,
   "id": "2a714438",
   "metadata": {},
   "outputs": [],
   "source": [
    "CATEGORICAL_FEATURES = [\n",
    "#     'dow',\n",
    "    'surgery_classification_name',\n",
    "    'surgery_department_code',\n",
    "    'surgery_diagnosis_code', \n",
    "    'surgery_internal_code',\n",
    "    'surgery_anes_method_code',\n",
    "    'or_vendor_code',\n",
    "    'staff_main_surgeon_name', \n",
    "    'surgeon_anes_name1', \n",
    "    'surgeon_anes_name2', \n",
    "    'surgeon_anes_name3',\n",
    "    'surgeon_anes_name4', \n",
    "    'surgeon_anes_name5', \n",
    "    'scrub_nurse_name1',\n",
    "    'scrub_nurse_name2', \n",
    "    'circulating_nurse_name1', \n",
    "    'circulating_nurse_name2',\n",
    "    'surgery_ward_code', \n",
    "    'surgery_position_code2',\n",
    "    'surgery_position_name',\n",
    "    'surgery_equipment_vendor_code1',\n",
    "    'surgery_equipment_vendor_code2',\n",
    "    'on_call', 'cancel',\n",
    "    'wom', 'month', 'year',\n",
    "]"
   ]
  },
  {
   "cell_type": "code",
   "execution_count": 16,
   "id": "bb8b8b13",
   "metadata": {},
   "outputs": [],
   "source": [
    "NUMERICAL_FEATURES = [\n",
    "    'or_reservation_operation_duration',\n",
    "]"
   ]
  },
  {
   "cell_type": "code",
   "execution_count": 17,
   "id": "08c3ca4f",
   "metadata": {},
   "outputs": [],
   "source": [
    "TRANSFORMED_FEATURES = [\n",
    "    'transformed_dow'\n",
    "]"
   ]
  },
  {
   "cell_type": "markdown",
   "id": "fd5df8e9",
   "metadata": {},
   "source": [
    "## Transformers"
   ]
  },
  {
   "cell_type": "code",
   "execution_count": 18,
   "id": "ed6564f6",
   "metadata": {},
   "outputs": [],
   "source": [
    "class CountTransformer(BaseEstimator, TransformerMixin):\n",
    "    def __init__(self):\n",
    "        pass\n",
    "    \n",
    "    def fit(self, X, y=None):\n",
    "        return self\n",
    "\n",
    "    def transform(self, X, y=None):\n",
    "        count_non_na = pd.DataFrame(X.count(axis=1))\n",
    "        return count_non_na"
   ]
  },
  {
   "cell_type": "code",
   "execution_count": 19,
   "id": "55ba130f",
   "metadata": {},
   "outputs": [],
   "source": [
    "class AddDowTransformer(BaseEstimator, TransformerMixin):\n",
    "    def __init__(self):\n",
    "        pass\n",
    "    \n",
    "    def fit(self, X, y=None):\n",
    "        return self\n",
    "\n",
    "    def transform(self, X, y=None):\n",
    "        # Expand original X with new columns\n",
    "        X = X.copy()\n",
    "        X.loc[:, 'transformed_dow'] = X['dow'].map(DOW_MAPPING)\n",
    "        return X"
   ]
  },
  {
   "cell_type": "code",
   "execution_count": 20,
   "id": "2359f46c",
   "metadata": {},
   "outputs": [],
   "source": [
    "class FeatureSelectorTransformer(BaseEstimator, TransformerMixin):\n",
    "    def __init__(self, features):\n",
    "        self.features = features\n",
    "        \n",
    "    def fit(self, X, y=None):\n",
    "        return self\n",
    "    \n",
    "    def transform(self, X, y=None):\n",
    "        return X[self.features]"
   ]
  },
  {
   "cell_type": "code",
   "execution_count": 21,
   "id": "3acf23af",
   "metadata": {},
   "outputs": [],
   "source": [
    "# class ImpactEncodingTransformer(BaseEstimator, TransformerMixin):\n",
    "#     def __init__(self, feature_name):\n",
    "#         self.feature_name = feature_name\n",
    "#         self.X_and_y = pd.DataFrame()\n",
    "#         self.impact_mapping = dict()\n",
    "#         self.impact_encoded_feature = pd.Series(dtype=int)\n",
    "    \n",
    "#     def fit(self, X, y):\n",
    "#         self.X_and_y = pd.concat([X, y], axis=1)\n",
    "#         self.impact_mapping = self.X_and_y.groupby(self.feature_name)['WIWO'].mean().astype(int).to_dict()\n",
    "#         return self.impact_mapping\n",
    "    \n",
    "#     def transform(self, X, y=None):\n",
    "#         self.impact_encoded_feature = X[self.feature_name].map(self.impact_mapping)\n",
    "#         return self.impact_encoded_feature"
   ]
  },
  {
   "cell_type": "code",
   "execution_count": 22,
   "id": "a49ae71f",
   "metadata": {},
   "outputs": [],
   "source": [
    "class ImpactEncodingTransformer(BaseEstimator, TransformerMixin):\n",
    "    def __init__(self):\n",
    "        self.X_and_y = pd.DataFrame()\n",
    "        self.feature_names = list()\n",
    "        self.y_name = str()\n",
    "        self.y_mean = int()\n",
    "        self.impact_mapping = dict()\n",
    "        # self.impact_encoded_features creates a bug where .predict doesn't work in a pipeline\n",
    "    \n",
    "    def fit(self, X, y):\n",
    "        # Setting up variables during fit\n",
    "        self.X_and_y = pd.concat([X, y], axis=1)\n",
    "        self.feature_names = list(pd.DataFrame(X).columns)\n",
    "        self.y_name = y.name\n",
    "        self.y_mean = int(y.mean())\n",
    "        \n",
    "        # Getting impact encoding mapping for all features\n",
    "        for feature_name in self.feature_names:\n",
    "            self.impact_mapping[feature_name] = \\\n",
    "                self.X_and_y.groupby(feature_name)[self.y_name].mean().astype(int).to_dict()\n",
    "        \n",
    "        # Must return self as a transformer, otherwise errors\n",
    "        return self\n",
    "    \n",
    "    def transform(self, X, y=None):\n",
    "        # Encode all features\n",
    "        impact_encoded_features = pd.DataFrame()\n",
    "        for feature_name in self.feature_names:\n",
    "            # For unknown keys, fill in with global mean\n",
    "            current_encoded_feature = \\\n",
    "                X[feature_name].map(self.impact_mapping[feature_name]).fillna(self.y_mean).astype(int)\n",
    "            impact_encoded_features = \\\n",
    "                pd.concat([impact_encoded_features, current_encoded_feature], axis=1)\n",
    "    \n",
    "        return impact_encoded_features"
   ]
  },
  {
   "cell_type": "code",
   "execution_count": 23,
   "id": "dcbdc7b5",
   "metadata": {},
   "outputs": [],
   "source": [
    "combine_all_transformers = make_column_transformer(\n",
    "    (ImpactEncodingTransformer(), TRANSFORMED_FEATURES + CATEGORICAL_FEATURES),\n",
    "    (CountTransformer(), SURGERY_DIAGNOSIS_CODES),\n",
    "    (CountTransformer(), SURGERY_INTERNAL_CODES),\n",
    "    (CountTransformer(), STAFF_MAIN_SURGEON_NAMES),\n",
    "    (CountTransformer(), SURGEON_ANES_NAMES),\n",
    "    (CountTransformer(), SCRUB_NURSE_NAMES),\n",
    "    (CountTransformer(), CIRCULATING_NURSE_NAMES),\n",
    "    (CountTransformer(), SURGERY_EQUIPMENT_VENDOR_CODES),\n",
    "    ('passthrough', NUMERICAL_FEATURES)\n",
    ")"
   ]
  },
  {
   "cell_type": "markdown",
   "id": "6f073c75",
   "metadata": {},
   "source": [
    "# Model in a Pipeline"
   ]
  },
  {
   "cell_type": "code",
   "execution_count": 24,
   "id": "480b765e",
   "metadata": {},
   "outputs": [],
   "source": [
    "pipe_lm = Pipeline(\n",
    "    steps=[\n",
    "        ('select_initial_features', FeatureSelectorTransformer(INITIAL_FEATURES)),\n",
    "        ('add_dow_transformer', AddDowTransformer()),\n",
    "        ('select_more_features', FeatureSelectorTransformer(TRANSFORMED_FEATURES + INITIAL_FEATURES)),\n",
    "        ('combine_all_transformers', combine_all_transformers),\n",
    "        ('standard_scaler', StandardScaler()),\n",
    "        ('linear_regression', LinearRegression()),\n",
    "    ]\n",
    ")"
   ]
  },
  {
   "cell_type": "code",
   "execution_count": 25,
   "id": "d0ef0fcb",
   "metadata": {},
   "outputs": [
    {
     "data": {
      "text/html": [
       "<style>#sk-container-id-1 {color: black;background-color: white;}#sk-container-id-1 pre{padding: 0;}#sk-container-id-1 div.sk-toggleable {background-color: white;}#sk-container-id-1 label.sk-toggleable__label {cursor: pointer;display: block;width: 100%;margin-bottom: 0;padding: 0.3em;box-sizing: border-box;text-align: center;}#sk-container-id-1 label.sk-toggleable__label-arrow:before {content: \"▸\";float: left;margin-right: 0.25em;color: #696969;}#sk-container-id-1 label.sk-toggleable__label-arrow:hover:before {color: black;}#sk-container-id-1 div.sk-estimator:hover label.sk-toggleable__label-arrow:before {color: black;}#sk-container-id-1 div.sk-toggleable__content {max-height: 0;max-width: 0;overflow: hidden;text-align: left;background-color: #f0f8ff;}#sk-container-id-1 div.sk-toggleable__content pre {margin: 0.2em;color: black;border-radius: 0.25em;background-color: #f0f8ff;}#sk-container-id-1 input.sk-toggleable__control:checked~div.sk-toggleable__content {max-height: 200px;max-width: 100%;overflow: auto;}#sk-container-id-1 input.sk-toggleable__control:checked~label.sk-toggleable__label-arrow:before {content: \"▾\";}#sk-container-id-1 div.sk-estimator input.sk-toggleable__control:checked~label.sk-toggleable__label {background-color: #d4ebff;}#sk-container-id-1 div.sk-label input.sk-toggleable__control:checked~label.sk-toggleable__label {background-color: #d4ebff;}#sk-container-id-1 input.sk-hidden--visually {border: 0;clip: rect(1px 1px 1px 1px);clip: rect(1px, 1px, 1px, 1px);height: 1px;margin: -1px;overflow: hidden;padding: 0;position: absolute;width: 1px;}#sk-container-id-1 div.sk-estimator {font-family: monospace;background-color: #f0f8ff;border: 1px dotted black;border-radius: 0.25em;box-sizing: border-box;margin-bottom: 0.5em;}#sk-container-id-1 div.sk-estimator:hover {background-color: #d4ebff;}#sk-container-id-1 div.sk-parallel-item::after {content: \"\";width: 100%;border-bottom: 1px solid gray;flex-grow: 1;}#sk-container-id-1 div.sk-label:hover label.sk-toggleable__label {background-color: #d4ebff;}#sk-container-id-1 div.sk-serial::before {content: \"\";position: absolute;border-left: 1px solid gray;box-sizing: border-box;top: 0;bottom: 0;left: 50%;z-index: 0;}#sk-container-id-1 div.sk-serial {display: flex;flex-direction: column;align-items: center;background-color: white;padding-right: 0.2em;padding-left: 0.2em;position: relative;}#sk-container-id-1 div.sk-item {position: relative;z-index: 1;}#sk-container-id-1 div.sk-parallel {display: flex;align-items: stretch;justify-content: center;background-color: white;position: relative;}#sk-container-id-1 div.sk-item::before, #sk-container-id-1 div.sk-parallel-item::before {content: \"\";position: absolute;border-left: 1px solid gray;box-sizing: border-box;top: 0;bottom: 0;left: 50%;z-index: -1;}#sk-container-id-1 div.sk-parallel-item {display: flex;flex-direction: column;z-index: 1;position: relative;background-color: white;}#sk-container-id-1 div.sk-parallel-item:first-child::after {align-self: flex-end;width: 50%;}#sk-container-id-1 div.sk-parallel-item:last-child::after {align-self: flex-start;width: 50%;}#sk-container-id-1 div.sk-parallel-item:only-child::after {width: 0;}#sk-container-id-1 div.sk-dashed-wrapped {border: 1px dashed gray;margin: 0 0.4em 0.5em 0.4em;box-sizing: border-box;padding-bottom: 0.4em;background-color: white;}#sk-container-id-1 div.sk-label label {font-family: monospace;font-weight: bold;display: inline-block;line-height: 1.2em;}#sk-container-id-1 div.sk-label-container {text-align: center;}#sk-container-id-1 div.sk-container {/* jupyter's `normalize.less` sets `[hidden] { display: none; }` but bootstrap.min.css set `[hidden] { display: none !important; }` so we also need the `!important` here to be able to override the default hidden behavior on the sphinx rendered scikit-learn.org. See: https://github.com/scikit-learn/scikit-learn/issues/21755 */display: inline-block !important;position: relative;}#sk-container-id-1 div.sk-text-repr-fallback {display: none;}</style><div id=\"sk-container-id-1\" class=\"sk-top-container\"><div class=\"sk-text-repr-fallback\"><pre>Pipeline(steps=[(&#x27;select_initial_features&#x27;,\n",
       "                 FeatureSelectorTransformer(features=[&#x27;dow&#x27;,\n",
       "                                                      &#x27;surgery_classification_name&#x27;,\n",
       "                                                      &#x27;surgery_department_code&#x27;,\n",
       "                                                      &#x27;surgery_diagnosis_code&#x27;,\n",
       "                                                      &#x27;surgery_diagnosis_code2&#x27;,\n",
       "                                                      &#x27;surgery_diagnosis_code3&#x27;,\n",
       "                                                      &#x27;surgery_diagnosis_code4&#x27;,\n",
       "                                                      &#x27;surgery_diagnosis_code5&#x27;,\n",
       "                                                      &#x27;surgery_internal_code&#x27;,\n",
       "                                                      &#x27;surgery_internal_code2&#x27;,\n",
       "                                                      &#x27;surgery_internal_code3&#x27;,\n",
       "                                                      &#x27;surg...\n",
       "                                                   &#x27;surgery_equipment_vendor_code3&#x27;,\n",
       "                                                   &#x27;surgery_equipment_vendor_code4&#x27;,\n",
       "                                                   &#x27;surgery_equipment_vendor_code5&#x27;,\n",
       "                                                   &#x27;surgery_equipment_vendor_code6&#x27;,\n",
       "                                                   &#x27;surgery_equipment_vendor_code7&#x27;,\n",
       "                                                   &#x27;surgery_equipment_vendor_code8&#x27;]),\n",
       "                                                 (&#x27;passthrough&#x27;, &#x27;passthrough&#x27;,\n",
       "                                                  [&#x27;or_reservation_operation_duration&#x27;])])),\n",
       "                (&#x27;standard_scaler&#x27;, StandardScaler()),\n",
       "                (&#x27;linear_regression&#x27;, LinearRegression())])</pre><b>In a Jupyter environment, please rerun this cell to show the HTML representation or trust the notebook. <br />On GitHub, the HTML representation is unable to render, please try loading this page with nbviewer.org.</b></div><div class=\"sk-container\" hidden><div class=\"sk-item sk-dashed-wrapped\"><div class=\"sk-label-container\"><div class=\"sk-label sk-toggleable\"><input class=\"sk-toggleable__control sk-hidden--visually\" id=\"sk-estimator-id-1\" type=\"checkbox\" ><label for=\"sk-estimator-id-1\" class=\"sk-toggleable__label sk-toggleable__label-arrow\">Pipeline</label><div class=\"sk-toggleable__content\"><pre>Pipeline(steps=[(&#x27;select_initial_features&#x27;,\n",
       "                 FeatureSelectorTransformer(features=[&#x27;dow&#x27;,\n",
       "                                                      &#x27;surgery_classification_name&#x27;,\n",
       "                                                      &#x27;surgery_department_code&#x27;,\n",
       "                                                      &#x27;surgery_diagnosis_code&#x27;,\n",
       "                                                      &#x27;surgery_diagnosis_code2&#x27;,\n",
       "                                                      &#x27;surgery_diagnosis_code3&#x27;,\n",
       "                                                      &#x27;surgery_diagnosis_code4&#x27;,\n",
       "                                                      &#x27;surgery_diagnosis_code5&#x27;,\n",
       "                                                      &#x27;surgery_internal_code&#x27;,\n",
       "                                                      &#x27;surgery_internal_code2&#x27;,\n",
       "                                                      &#x27;surgery_internal_code3&#x27;,\n",
       "                                                      &#x27;surg...\n",
       "                                                   &#x27;surgery_equipment_vendor_code3&#x27;,\n",
       "                                                   &#x27;surgery_equipment_vendor_code4&#x27;,\n",
       "                                                   &#x27;surgery_equipment_vendor_code5&#x27;,\n",
       "                                                   &#x27;surgery_equipment_vendor_code6&#x27;,\n",
       "                                                   &#x27;surgery_equipment_vendor_code7&#x27;,\n",
       "                                                   &#x27;surgery_equipment_vendor_code8&#x27;]),\n",
       "                                                 (&#x27;passthrough&#x27;, &#x27;passthrough&#x27;,\n",
       "                                                  [&#x27;or_reservation_operation_duration&#x27;])])),\n",
       "                (&#x27;standard_scaler&#x27;, StandardScaler()),\n",
       "                (&#x27;linear_regression&#x27;, LinearRegression())])</pre></div></div></div><div class=\"sk-serial\"><div class=\"sk-item\"><div class=\"sk-estimator sk-toggleable\"><input class=\"sk-toggleable__control sk-hidden--visually\" id=\"sk-estimator-id-2\" type=\"checkbox\" ><label for=\"sk-estimator-id-2\" class=\"sk-toggleable__label sk-toggleable__label-arrow\">FeatureSelectorTransformer</label><div class=\"sk-toggleable__content\"><pre>FeatureSelectorTransformer(features=[&#x27;dow&#x27;, &#x27;surgery_classification_name&#x27;,\n",
       "                                     &#x27;surgery_department_code&#x27;,\n",
       "                                     &#x27;surgery_diagnosis_code&#x27;,\n",
       "                                     &#x27;surgery_diagnosis_code2&#x27;,\n",
       "                                     &#x27;surgery_diagnosis_code3&#x27;,\n",
       "                                     &#x27;surgery_diagnosis_code4&#x27;,\n",
       "                                     &#x27;surgery_diagnosis_code5&#x27;,\n",
       "                                     &#x27;surgery_internal_code&#x27;,\n",
       "                                     &#x27;surgery_internal_code2&#x27;,\n",
       "                                     &#x27;surgery_internal_code3&#x27;,\n",
       "                                     &#x27;surgery_internal_code4&#x27;,\n",
       "                                     &#x27;surgery_anes_method_co...\n",
       "                                     &#x27;staff_main_surgeon_name&#x27;,\n",
       "                                     &#x27;staff_main_surgeon_name2&#x27;,\n",
       "                                     &#x27;staff_main_surgeon_name3&#x27;,\n",
       "                                     &#x27;staff_main_surgeon_name4&#x27;,\n",
       "                                     &#x27;staff_main_surgeon_name5&#x27;,\n",
       "                                     &#x27;staff_main_surgeon_name6&#x27;,\n",
       "                                     &#x27;staff_main_surgeon_name7&#x27;,\n",
       "                                     &#x27;staff_main_surgeon_name8&#x27;,\n",
       "                                     &#x27;surgeon_anes_name1&#x27;, &#x27;surgeon_anes_name2&#x27;,\n",
       "                                     &#x27;surgeon_anes_name3&#x27;, &#x27;surgeon_anes_name4&#x27;,\n",
       "                                     &#x27;surgeon_anes_name5&#x27;, &#x27;scrub_nurse_name1&#x27;,\n",
       "                                     &#x27;scrub_nurse_name2&#x27;, ...])</pre></div></div></div><div class=\"sk-item\"><div class=\"sk-estimator sk-toggleable\"><input class=\"sk-toggleable__control sk-hidden--visually\" id=\"sk-estimator-id-3\" type=\"checkbox\" ><label for=\"sk-estimator-id-3\" class=\"sk-toggleable__label sk-toggleable__label-arrow\">AddDowTransformer</label><div class=\"sk-toggleable__content\"><pre>AddDowTransformer()</pre></div></div></div><div class=\"sk-item\"><div class=\"sk-estimator sk-toggleable\"><input class=\"sk-toggleable__control sk-hidden--visually\" id=\"sk-estimator-id-4\" type=\"checkbox\" ><label for=\"sk-estimator-id-4\" class=\"sk-toggleable__label sk-toggleable__label-arrow\">FeatureSelectorTransformer</label><div class=\"sk-toggleable__content\"><pre>FeatureSelectorTransformer(features=[&#x27;transformed_dow&#x27;, &#x27;dow&#x27;,\n",
       "                                     &#x27;surgery_classification_name&#x27;,\n",
       "                                     &#x27;surgery_department_code&#x27;,\n",
       "                                     &#x27;surgery_diagnosis_code&#x27;,\n",
       "                                     &#x27;surgery_diagnosis_code2&#x27;,\n",
       "                                     &#x27;surgery_diagnosis_code3&#x27;,\n",
       "                                     &#x27;surgery_diagnosis_code4&#x27;,\n",
       "                                     &#x27;surgery_diagnosis_code5&#x27;,\n",
       "                                     &#x27;surgery_internal_code&#x27;,\n",
       "                                     &#x27;surgery_internal_code2&#x27;,\n",
       "                                     &#x27;surgery_internal_code3&#x27;,\n",
       "                                     &#x27;surgery_internal_code4&#x27;,\n",
       "                                     &#x27;surg...\n",
       "                                     &#x27;or_reservation_operation_duration&#x27;,\n",
       "                                     &#x27;staff_main_surgeon_name&#x27;,\n",
       "                                     &#x27;staff_main_surgeon_name2&#x27;,\n",
       "                                     &#x27;staff_main_surgeon_name3&#x27;,\n",
       "                                     &#x27;staff_main_surgeon_name4&#x27;,\n",
       "                                     &#x27;staff_main_surgeon_name5&#x27;,\n",
       "                                     &#x27;staff_main_surgeon_name6&#x27;,\n",
       "                                     &#x27;staff_main_surgeon_name7&#x27;,\n",
       "                                     &#x27;staff_main_surgeon_name8&#x27;,\n",
       "                                     &#x27;surgeon_anes_name1&#x27;, &#x27;surgeon_anes_name2&#x27;,\n",
       "                                     &#x27;surgeon_anes_name3&#x27;, &#x27;surgeon_anes_name4&#x27;,\n",
       "                                     &#x27;surgeon_anes_name5&#x27;, &#x27;scrub_nurse_name1&#x27;, ...])</pre></div></div></div><div class=\"sk-item sk-dashed-wrapped\"><div class=\"sk-label-container\"><div class=\"sk-label sk-toggleable\"><input class=\"sk-toggleable__control sk-hidden--visually\" id=\"sk-estimator-id-5\" type=\"checkbox\" ><label for=\"sk-estimator-id-5\" class=\"sk-toggleable__label sk-toggleable__label-arrow\">combine_all_transformers: ColumnTransformer</label><div class=\"sk-toggleable__content\"><pre>ColumnTransformer(transformers=[(&#x27;impactencodingtransformer&#x27;,\n",
       "                                 ImpactEncodingTransformer(),\n",
       "                                 [&#x27;transformed_dow&#x27;,\n",
       "                                  &#x27;surgery_classification_name&#x27;,\n",
       "                                  &#x27;surgery_department_code&#x27;,\n",
       "                                  &#x27;surgery_diagnosis_code&#x27;,\n",
       "                                  &#x27;surgery_internal_code&#x27;,\n",
       "                                  &#x27;surgery_anes_method_code&#x27;, &#x27;or_vendor_code&#x27;,\n",
       "                                  &#x27;staff_main_surgeon_name&#x27;,\n",
       "                                  &#x27;surgeon_anes_name1&#x27;, &#x27;surgeon_anes_name2&#x27;,\n",
       "                                  &#x27;surgeon_anes_name3&#x27;, &#x27;sur...\n",
       "                                (&#x27;counttransformer-7&#x27;, CountTransformer(),\n",
       "                                 [&#x27;surgery_equipment_vendor_code1&#x27;,\n",
       "                                  &#x27;surgery_equipment_vendor_code2&#x27;,\n",
       "                                  &#x27;surgery_equipment_vendor_code3&#x27;,\n",
       "                                  &#x27;surgery_equipment_vendor_code4&#x27;,\n",
       "                                  &#x27;surgery_equipment_vendor_code5&#x27;,\n",
       "                                  &#x27;surgery_equipment_vendor_code6&#x27;,\n",
       "                                  &#x27;surgery_equipment_vendor_code7&#x27;,\n",
       "                                  &#x27;surgery_equipment_vendor_code8&#x27;]),\n",
       "                                (&#x27;passthrough&#x27;, &#x27;passthrough&#x27;,\n",
       "                                 [&#x27;or_reservation_operation_duration&#x27;])])</pre></div></div></div><div class=\"sk-parallel\"><div class=\"sk-parallel-item\"><div class=\"sk-item\"><div class=\"sk-label-container\"><div class=\"sk-label sk-toggleable\"><input class=\"sk-toggleable__control sk-hidden--visually\" id=\"sk-estimator-id-6\" type=\"checkbox\" ><label for=\"sk-estimator-id-6\" class=\"sk-toggleable__label sk-toggleable__label-arrow\">impactencodingtransformer</label><div class=\"sk-toggleable__content\"><pre>[&#x27;transformed_dow&#x27;, &#x27;surgery_classification_name&#x27;, &#x27;surgery_department_code&#x27;, &#x27;surgery_diagnosis_code&#x27;, &#x27;surgery_internal_code&#x27;, &#x27;surgery_anes_method_code&#x27;, &#x27;or_vendor_code&#x27;, &#x27;staff_main_surgeon_name&#x27;, &#x27;surgeon_anes_name1&#x27;, &#x27;surgeon_anes_name2&#x27;, &#x27;surgeon_anes_name3&#x27;, &#x27;surgeon_anes_name4&#x27;, &#x27;surgeon_anes_name5&#x27;, &#x27;scrub_nurse_name1&#x27;, &#x27;scrub_nurse_name2&#x27;, &#x27;circulating_nurse_name1&#x27;, &#x27;circulating_nurse_name2&#x27;, &#x27;surgery_ward_code&#x27;, &#x27;surgery_position_code2&#x27;, &#x27;surgery_position_name&#x27;, &#x27;surgery_equipment_vendor_code1&#x27;, &#x27;surgery_equipment_vendor_code2&#x27;, &#x27;on_call&#x27;, &#x27;cancel&#x27;, &#x27;wom&#x27;, &#x27;month&#x27;, &#x27;year&#x27;]</pre></div></div></div><div class=\"sk-serial\"><div class=\"sk-item\"><div class=\"sk-estimator sk-toggleable\"><input class=\"sk-toggleable__control sk-hidden--visually\" id=\"sk-estimator-id-7\" type=\"checkbox\" ><label for=\"sk-estimator-id-7\" class=\"sk-toggleable__label sk-toggleable__label-arrow\">ImpactEncodingTransformer</label><div class=\"sk-toggleable__content\"><pre>ImpactEncodingTransformer()</pre></div></div></div></div></div></div><div class=\"sk-parallel-item\"><div class=\"sk-item\"><div class=\"sk-label-container\"><div class=\"sk-label sk-toggleable\"><input class=\"sk-toggleable__control sk-hidden--visually\" id=\"sk-estimator-id-8\" type=\"checkbox\" ><label for=\"sk-estimator-id-8\" class=\"sk-toggleable__label sk-toggleable__label-arrow\">counttransformer-1</label><div class=\"sk-toggleable__content\"><pre>[&#x27;surgery_diagnosis_code&#x27;, &#x27;surgery_diagnosis_code2&#x27;, &#x27;surgery_diagnosis_code3&#x27;, &#x27;surgery_diagnosis_code4&#x27;, &#x27;surgery_diagnosis_code5&#x27;]</pre></div></div></div><div class=\"sk-serial\"><div class=\"sk-item\"><div class=\"sk-estimator sk-toggleable\"><input class=\"sk-toggleable__control sk-hidden--visually\" id=\"sk-estimator-id-9\" type=\"checkbox\" ><label for=\"sk-estimator-id-9\" class=\"sk-toggleable__label sk-toggleable__label-arrow\">CountTransformer</label><div class=\"sk-toggleable__content\"><pre>CountTransformer()</pre></div></div></div></div></div></div><div class=\"sk-parallel-item\"><div class=\"sk-item\"><div class=\"sk-label-container\"><div class=\"sk-label sk-toggleable\"><input class=\"sk-toggleable__control sk-hidden--visually\" id=\"sk-estimator-id-10\" type=\"checkbox\" ><label for=\"sk-estimator-id-10\" class=\"sk-toggleable__label sk-toggleable__label-arrow\">counttransformer-2</label><div class=\"sk-toggleable__content\"><pre>[&#x27;surgery_internal_code&#x27;, &#x27;surgery_internal_code2&#x27;, &#x27;surgery_internal_code3&#x27;, &#x27;surgery_internal_code4&#x27;]</pre></div></div></div><div class=\"sk-serial\"><div class=\"sk-item\"><div class=\"sk-estimator sk-toggleable\"><input class=\"sk-toggleable__control sk-hidden--visually\" id=\"sk-estimator-id-11\" type=\"checkbox\" ><label for=\"sk-estimator-id-11\" class=\"sk-toggleable__label sk-toggleable__label-arrow\">CountTransformer</label><div class=\"sk-toggleable__content\"><pre>CountTransformer()</pre></div></div></div></div></div></div><div class=\"sk-parallel-item\"><div class=\"sk-item\"><div class=\"sk-label-container\"><div class=\"sk-label sk-toggleable\"><input class=\"sk-toggleable__control sk-hidden--visually\" id=\"sk-estimator-id-12\" type=\"checkbox\" ><label for=\"sk-estimator-id-12\" class=\"sk-toggleable__label sk-toggleable__label-arrow\">counttransformer-3</label><div class=\"sk-toggleable__content\"><pre>[&#x27;staff_main_surgeon_name&#x27;, &#x27;staff_main_surgeon_name2&#x27;, &#x27;staff_main_surgeon_name3&#x27;, &#x27;staff_main_surgeon_name4&#x27;, &#x27;staff_main_surgeon_name5&#x27;, &#x27;staff_main_surgeon_name6&#x27;, &#x27;staff_main_surgeon_name7&#x27;, &#x27;staff_main_surgeon_name8&#x27;]</pre></div></div></div><div class=\"sk-serial\"><div class=\"sk-item\"><div class=\"sk-estimator sk-toggleable\"><input class=\"sk-toggleable__control sk-hidden--visually\" id=\"sk-estimator-id-13\" type=\"checkbox\" ><label for=\"sk-estimator-id-13\" class=\"sk-toggleable__label sk-toggleable__label-arrow\">CountTransformer</label><div class=\"sk-toggleable__content\"><pre>CountTransformer()</pre></div></div></div></div></div></div><div class=\"sk-parallel-item\"><div class=\"sk-item\"><div class=\"sk-label-container\"><div class=\"sk-label sk-toggleable\"><input class=\"sk-toggleable__control sk-hidden--visually\" id=\"sk-estimator-id-14\" type=\"checkbox\" ><label for=\"sk-estimator-id-14\" class=\"sk-toggleable__label sk-toggleable__label-arrow\">counttransformer-4</label><div class=\"sk-toggleable__content\"><pre>[&#x27;surgeon_anes_name1&#x27;, &#x27;surgeon_anes_name2&#x27;, &#x27;surgeon_anes_name3&#x27;, &#x27;surgeon_anes_name4&#x27;, &#x27;surgeon_anes_name5&#x27;]</pre></div></div></div><div class=\"sk-serial\"><div class=\"sk-item\"><div class=\"sk-estimator sk-toggleable\"><input class=\"sk-toggleable__control sk-hidden--visually\" id=\"sk-estimator-id-15\" type=\"checkbox\" ><label for=\"sk-estimator-id-15\" class=\"sk-toggleable__label sk-toggleable__label-arrow\">CountTransformer</label><div class=\"sk-toggleable__content\"><pre>CountTransformer()</pre></div></div></div></div></div></div><div class=\"sk-parallel-item\"><div class=\"sk-item\"><div class=\"sk-label-container\"><div class=\"sk-label sk-toggleable\"><input class=\"sk-toggleable__control sk-hidden--visually\" id=\"sk-estimator-id-16\" type=\"checkbox\" ><label for=\"sk-estimator-id-16\" class=\"sk-toggleable__label sk-toggleable__label-arrow\">counttransformer-5</label><div class=\"sk-toggleable__content\"><pre>[&#x27;scrub_nurse_name1&#x27;, &#x27;scrub_nurse_name2&#x27;, &#x27;scrub_nurse_name3&#x27;, &#x27;scrub_nurse_name4&#x27;]</pre></div></div></div><div class=\"sk-serial\"><div class=\"sk-item\"><div class=\"sk-estimator sk-toggleable\"><input class=\"sk-toggleable__control sk-hidden--visually\" id=\"sk-estimator-id-17\" type=\"checkbox\" ><label for=\"sk-estimator-id-17\" class=\"sk-toggleable__label sk-toggleable__label-arrow\">CountTransformer</label><div class=\"sk-toggleable__content\"><pre>CountTransformer()</pre></div></div></div></div></div></div><div class=\"sk-parallel-item\"><div class=\"sk-item\"><div class=\"sk-label-container\"><div class=\"sk-label sk-toggleable\"><input class=\"sk-toggleable__control sk-hidden--visually\" id=\"sk-estimator-id-18\" type=\"checkbox\" ><label for=\"sk-estimator-id-18\" class=\"sk-toggleable__label sk-toggleable__label-arrow\">counttransformer-6</label><div class=\"sk-toggleable__content\"><pre>[&#x27;circulating_nurse_name1&#x27;, &#x27;circulating_nurse_name2&#x27;, &#x27;circulating_nurse_name3&#x27;, &#x27;circulating_nurse_name4&#x27;]</pre></div></div></div><div class=\"sk-serial\"><div class=\"sk-item\"><div class=\"sk-estimator sk-toggleable\"><input class=\"sk-toggleable__control sk-hidden--visually\" id=\"sk-estimator-id-19\" type=\"checkbox\" ><label for=\"sk-estimator-id-19\" class=\"sk-toggleable__label sk-toggleable__label-arrow\">CountTransformer</label><div class=\"sk-toggleable__content\"><pre>CountTransformer()</pre></div></div></div></div></div></div><div class=\"sk-parallel-item\"><div class=\"sk-item\"><div class=\"sk-label-container\"><div class=\"sk-label sk-toggleable\"><input class=\"sk-toggleable__control sk-hidden--visually\" id=\"sk-estimator-id-20\" type=\"checkbox\" ><label for=\"sk-estimator-id-20\" class=\"sk-toggleable__label sk-toggleable__label-arrow\">counttransformer-7</label><div class=\"sk-toggleable__content\"><pre>[&#x27;surgery_equipment_vendor_code1&#x27;, &#x27;surgery_equipment_vendor_code2&#x27;, &#x27;surgery_equipment_vendor_code3&#x27;, &#x27;surgery_equipment_vendor_code4&#x27;, &#x27;surgery_equipment_vendor_code5&#x27;, &#x27;surgery_equipment_vendor_code6&#x27;, &#x27;surgery_equipment_vendor_code7&#x27;, &#x27;surgery_equipment_vendor_code8&#x27;]</pre></div></div></div><div class=\"sk-serial\"><div class=\"sk-item\"><div class=\"sk-estimator sk-toggleable\"><input class=\"sk-toggleable__control sk-hidden--visually\" id=\"sk-estimator-id-21\" type=\"checkbox\" ><label for=\"sk-estimator-id-21\" class=\"sk-toggleable__label sk-toggleable__label-arrow\">CountTransformer</label><div class=\"sk-toggleable__content\"><pre>CountTransformer()</pre></div></div></div></div></div></div><div class=\"sk-parallel-item\"><div class=\"sk-item\"><div class=\"sk-label-container\"><div class=\"sk-label sk-toggleable\"><input class=\"sk-toggleable__control sk-hidden--visually\" id=\"sk-estimator-id-22\" type=\"checkbox\" ><label for=\"sk-estimator-id-22\" class=\"sk-toggleable__label sk-toggleable__label-arrow\">passthrough</label><div class=\"sk-toggleable__content\"><pre>[&#x27;or_reservation_operation_duration&#x27;]</pre></div></div></div><div class=\"sk-serial\"><div class=\"sk-item\"><div class=\"sk-estimator sk-toggleable\"><input class=\"sk-toggleable__control sk-hidden--visually\" id=\"sk-estimator-id-23\" type=\"checkbox\" ><label for=\"sk-estimator-id-23\" class=\"sk-toggleable__label sk-toggleable__label-arrow\">passthrough</label><div class=\"sk-toggleable__content\"><pre>passthrough</pre></div></div></div></div></div></div></div></div><div class=\"sk-item\"><div class=\"sk-estimator sk-toggleable\"><input class=\"sk-toggleable__control sk-hidden--visually\" id=\"sk-estimator-id-24\" type=\"checkbox\" ><label for=\"sk-estimator-id-24\" class=\"sk-toggleable__label sk-toggleable__label-arrow\">StandardScaler</label><div class=\"sk-toggleable__content\"><pre>StandardScaler()</pre></div></div></div><div class=\"sk-item\"><div class=\"sk-estimator sk-toggleable\"><input class=\"sk-toggleable__control sk-hidden--visually\" id=\"sk-estimator-id-25\" type=\"checkbox\" ><label for=\"sk-estimator-id-25\" class=\"sk-toggleable__label sk-toggleable__label-arrow\">LinearRegression</label><div class=\"sk-toggleable__content\"><pre>LinearRegression()</pre></div></div></div></div></div></div></div>"
      ],
      "text/plain": [
       "Pipeline(steps=[('select_initial_features',\n",
       "                 FeatureSelectorTransformer(features=['dow',\n",
       "                                                      'surgery_classification_name',\n",
       "                                                      'surgery_department_code',\n",
       "                                                      'surgery_diagnosis_code',\n",
       "                                                      'surgery_diagnosis_code2',\n",
       "                                                      'surgery_diagnosis_code3',\n",
       "                                                      'surgery_diagnosis_code4',\n",
       "                                                      'surgery_diagnosis_code5',\n",
       "                                                      'surgery_internal_code',\n",
       "                                                      'surgery_internal_code2',\n",
       "                                                      'surgery_internal_code3',\n",
       "                                                      'surg...\n",
       "                                                   'surgery_equipment_vendor_code3',\n",
       "                                                   'surgery_equipment_vendor_code4',\n",
       "                                                   'surgery_equipment_vendor_code5',\n",
       "                                                   'surgery_equipment_vendor_code6',\n",
       "                                                   'surgery_equipment_vendor_code7',\n",
       "                                                   'surgery_equipment_vendor_code8']),\n",
       "                                                 ('passthrough', 'passthrough',\n",
       "                                                  ['or_reservation_operation_duration'])])),\n",
       "                ('standard_scaler', StandardScaler()),\n",
       "                ('linear_regression', LinearRegression())])"
      ]
     },
     "execution_count": 25,
     "metadata": {},
     "output_type": "execute_result"
    }
   ],
   "source": [
    "pipe_lm.fit(X_train, y_train)"
   ]
  },
  {
   "cell_type": "code",
   "execution_count": 26,
   "id": "a89253d4",
   "metadata": {
    "scrolled": true
   },
   "outputs": [
    {
     "data": {
      "text/plain": [
       "array([ 57.72471069, 144.53279824, 279.0487039 , ..., 554.37888338,\n",
       "       326.94809067,  79.04809534])"
      ]
     },
     "execution_count": 26,
     "metadata": {},
     "output_type": "execute_result"
    }
   ],
   "source": [
    "pipe_lm.predict(X_test)"
   ]
  },
  {
   "cell_type": "code",
   "execution_count": 27,
   "id": "d620e2fd",
   "metadata": {},
   "outputs": [],
   "source": [
    "pipe_xgboost = Pipeline(\n",
    "    steps=[\n",
    "        ('select_initial_features', FeatureSelectorTransformer(INITIAL_FEATURES)),\n",
    "        ('add_dow_transformer', AddDowTransformer()),\n",
    "        ('select_more_features', FeatureSelectorTransformer(TRANSFORMED_FEATURES + INITIAL_FEATURES)),\n",
    "        ('combine_all_transformers', combine_all_transformers),\n",
    "        ('standard_scaler', StandardScaler()),\n",
    "        ('xgboost', XGBRegressor()),\n",
    "    ]\n",
    ")"
   ]
  },
  {
   "cell_type": "code",
   "execution_count": 28,
   "id": "8b374e2e",
   "metadata": {},
   "outputs": [
    {
     "data": {
      "text/html": [
       "<style>#sk-container-id-2 {color: black;background-color: white;}#sk-container-id-2 pre{padding: 0;}#sk-container-id-2 div.sk-toggleable {background-color: white;}#sk-container-id-2 label.sk-toggleable__label {cursor: pointer;display: block;width: 100%;margin-bottom: 0;padding: 0.3em;box-sizing: border-box;text-align: center;}#sk-container-id-2 label.sk-toggleable__label-arrow:before {content: \"▸\";float: left;margin-right: 0.25em;color: #696969;}#sk-container-id-2 label.sk-toggleable__label-arrow:hover:before {color: black;}#sk-container-id-2 div.sk-estimator:hover label.sk-toggleable__label-arrow:before {color: black;}#sk-container-id-2 div.sk-toggleable__content {max-height: 0;max-width: 0;overflow: hidden;text-align: left;background-color: #f0f8ff;}#sk-container-id-2 div.sk-toggleable__content pre {margin: 0.2em;color: black;border-radius: 0.25em;background-color: #f0f8ff;}#sk-container-id-2 input.sk-toggleable__control:checked~div.sk-toggleable__content {max-height: 200px;max-width: 100%;overflow: auto;}#sk-container-id-2 input.sk-toggleable__control:checked~label.sk-toggleable__label-arrow:before {content: \"▾\";}#sk-container-id-2 div.sk-estimator input.sk-toggleable__control:checked~label.sk-toggleable__label {background-color: #d4ebff;}#sk-container-id-2 div.sk-label input.sk-toggleable__control:checked~label.sk-toggleable__label {background-color: #d4ebff;}#sk-container-id-2 input.sk-hidden--visually {border: 0;clip: rect(1px 1px 1px 1px);clip: rect(1px, 1px, 1px, 1px);height: 1px;margin: -1px;overflow: hidden;padding: 0;position: absolute;width: 1px;}#sk-container-id-2 div.sk-estimator {font-family: monospace;background-color: #f0f8ff;border: 1px dotted black;border-radius: 0.25em;box-sizing: border-box;margin-bottom: 0.5em;}#sk-container-id-2 div.sk-estimator:hover {background-color: #d4ebff;}#sk-container-id-2 div.sk-parallel-item::after {content: \"\";width: 100%;border-bottom: 1px solid gray;flex-grow: 1;}#sk-container-id-2 div.sk-label:hover label.sk-toggleable__label {background-color: #d4ebff;}#sk-container-id-2 div.sk-serial::before {content: \"\";position: absolute;border-left: 1px solid gray;box-sizing: border-box;top: 0;bottom: 0;left: 50%;z-index: 0;}#sk-container-id-2 div.sk-serial {display: flex;flex-direction: column;align-items: center;background-color: white;padding-right: 0.2em;padding-left: 0.2em;position: relative;}#sk-container-id-2 div.sk-item {position: relative;z-index: 1;}#sk-container-id-2 div.sk-parallel {display: flex;align-items: stretch;justify-content: center;background-color: white;position: relative;}#sk-container-id-2 div.sk-item::before, #sk-container-id-2 div.sk-parallel-item::before {content: \"\";position: absolute;border-left: 1px solid gray;box-sizing: border-box;top: 0;bottom: 0;left: 50%;z-index: -1;}#sk-container-id-2 div.sk-parallel-item {display: flex;flex-direction: column;z-index: 1;position: relative;background-color: white;}#sk-container-id-2 div.sk-parallel-item:first-child::after {align-self: flex-end;width: 50%;}#sk-container-id-2 div.sk-parallel-item:last-child::after {align-self: flex-start;width: 50%;}#sk-container-id-2 div.sk-parallel-item:only-child::after {width: 0;}#sk-container-id-2 div.sk-dashed-wrapped {border: 1px dashed gray;margin: 0 0.4em 0.5em 0.4em;box-sizing: border-box;padding-bottom: 0.4em;background-color: white;}#sk-container-id-2 div.sk-label label {font-family: monospace;font-weight: bold;display: inline-block;line-height: 1.2em;}#sk-container-id-2 div.sk-label-container {text-align: center;}#sk-container-id-2 div.sk-container {/* jupyter's `normalize.less` sets `[hidden] { display: none; }` but bootstrap.min.css set `[hidden] { display: none !important; }` so we also need the `!important` here to be able to override the default hidden behavior on the sphinx rendered scikit-learn.org. See: https://github.com/scikit-learn/scikit-learn/issues/21755 */display: inline-block !important;position: relative;}#sk-container-id-2 div.sk-text-repr-fallback {display: none;}</style><div id=\"sk-container-id-2\" class=\"sk-top-container\"><div class=\"sk-text-repr-fallback\"><pre>Pipeline(steps=[(&#x27;select_initial_features&#x27;,\n",
       "                 FeatureSelectorTransformer(features=[&#x27;dow&#x27;,\n",
       "                                                      &#x27;surgery_classification_name&#x27;,\n",
       "                                                      &#x27;surgery_department_code&#x27;,\n",
       "                                                      &#x27;surgery_diagnosis_code&#x27;,\n",
       "                                                      &#x27;surgery_diagnosis_code2&#x27;,\n",
       "                                                      &#x27;surgery_diagnosis_code3&#x27;,\n",
       "                                                      &#x27;surgery_diagnosis_code4&#x27;,\n",
       "                                                      &#x27;surgery_diagnosis_code5&#x27;,\n",
       "                                                      &#x27;surgery_internal_code&#x27;,\n",
       "                                                      &#x27;surgery_internal_code2&#x27;,\n",
       "                                                      &#x27;surgery_internal_code3&#x27;,\n",
       "                                                      &#x27;surg...\n",
       "                              feature_types=None, gamma=None, gpu_id=None,\n",
       "                              grow_policy=None, importance_type=None,\n",
       "                              interaction_constraints=None, learning_rate=None,\n",
       "                              max_bin=None, max_cat_threshold=None,\n",
       "                              max_cat_to_onehot=None, max_delta_step=None,\n",
       "                              max_depth=None, max_leaves=None,\n",
       "                              min_child_weight=None, missing=nan,\n",
       "                              monotone_constraints=None, n_estimators=100,\n",
       "                              n_jobs=None, num_parallel_tree=None,\n",
       "                              predictor=None, random_state=None, ...))])</pre><b>In a Jupyter environment, please rerun this cell to show the HTML representation or trust the notebook. <br />On GitHub, the HTML representation is unable to render, please try loading this page with nbviewer.org.</b></div><div class=\"sk-container\" hidden><div class=\"sk-item sk-dashed-wrapped\"><div class=\"sk-label-container\"><div class=\"sk-label sk-toggleable\"><input class=\"sk-toggleable__control sk-hidden--visually\" id=\"sk-estimator-id-26\" type=\"checkbox\" ><label for=\"sk-estimator-id-26\" class=\"sk-toggleable__label sk-toggleable__label-arrow\">Pipeline</label><div class=\"sk-toggleable__content\"><pre>Pipeline(steps=[(&#x27;select_initial_features&#x27;,\n",
       "                 FeatureSelectorTransformer(features=[&#x27;dow&#x27;,\n",
       "                                                      &#x27;surgery_classification_name&#x27;,\n",
       "                                                      &#x27;surgery_department_code&#x27;,\n",
       "                                                      &#x27;surgery_diagnosis_code&#x27;,\n",
       "                                                      &#x27;surgery_diagnosis_code2&#x27;,\n",
       "                                                      &#x27;surgery_diagnosis_code3&#x27;,\n",
       "                                                      &#x27;surgery_diagnosis_code4&#x27;,\n",
       "                                                      &#x27;surgery_diagnosis_code5&#x27;,\n",
       "                                                      &#x27;surgery_internal_code&#x27;,\n",
       "                                                      &#x27;surgery_internal_code2&#x27;,\n",
       "                                                      &#x27;surgery_internal_code3&#x27;,\n",
       "                                                      &#x27;surg...\n",
       "                              feature_types=None, gamma=None, gpu_id=None,\n",
       "                              grow_policy=None, importance_type=None,\n",
       "                              interaction_constraints=None, learning_rate=None,\n",
       "                              max_bin=None, max_cat_threshold=None,\n",
       "                              max_cat_to_onehot=None, max_delta_step=None,\n",
       "                              max_depth=None, max_leaves=None,\n",
       "                              min_child_weight=None, missing=nan,\n",
       "                              monotone_constraints=None, n_estimators=100,\n",
       "                              n_jobs=None, num_parallel_tree=None,\n",
       "                              predictor=None, random_state=None, ...))])</pre></div></div></div><div class=\"sk-serial\"><div class=\"sk-item\"><div class=\"sk-estimator sk-toggleable\"><input class=\"sk-toggleable__control sk-hidden--visually\" id=\"sk-estimator-id-27\" type=\"checkbox\" ><label for=\"sk-estimator-id-27\" class=\"sk-toggleable__label sk-toggleable__label-arrow\">FeatureSelectorTransformer</label><div class=\"sk-toggleable__content\"><pre>FeatureSelectorTransformer(features=[&#x27;dow&#x27;, &#x27;surgery_classification_name&#x27;,\n",
       "                                     &#x27;surgery_department_code&#x27;,\n",
       "                                     &#x27;surgery_diagnosis_code&#x27;,\n",
       "                                     &#x27;surgery_diagnosis_code2&#x27;,\n",
       "                                     &#x27;surgery_diagnosis_code3&#x27;,\n",
       "                                     &#x27;surgery_diagnosis_code4&#x27;,\n",
       "                                     &#x27;surgery_diagnosis_code5&#x27;,\n",
       "                                     &#x27;surgery_internal_code&#x27;,\n",
       "                                     &#x27;surgery_internal_code2&#x27;,\n",
       "                                     &#x27;surgery_internal_code3&#x27;,\n",
       "                                     &#x27;surgery_internal_code4&#x27;,\n",
       "                                     &#x27;surgery_anes_method_co...\n",
       "                                     &#x27;staff_main_surgeon_name&#x27;,\n",
       "                                     &#x27;staff_main_surgeon_name2&#x27;,\n",
       "                                     &#x27;staff_main_surgeon_name3&#x27;,\n",
       "                                     &#x27;staff_main_surgeon_name4&#x27;,\n",
       "                                     &#x27;staff_main_surgeon_name5&#x27;,\n",
       "                                     &#x27;staff_main_surgeon_name6&#x27;,\n",
       "                                     &#x27;staff_main_surgeon_name7&#x27;,\n",
       "                                     &#x27;staff_main_surgeon_name8&#x27;,\n",
       "                                     &#x27;surgeon_anes_name1&#x27;, &#x27;surgeon_anes_name2&#x27;,\n",
       "                                     &#x27;surgeon_anes_name3&#x27;, &#x27;surgeon_anes_name4&#x27;,\n",
       "                                     &#x27;surgeon_anes_name5&#x27;, &#x27;scrub_nurse_name1&#x27;,\n",
       "                                     &#x27;scrub_nurse_name2&#x27;, ...])</pre></div></div></div><div class=\"sk-item\"><div class=\"sk-estimator sk-toggleable\"><input class=\"sk-toggleable__control sk-hidden--visually\" id=\"sk-estimator-id-28\" type=\"checkbox\" ><label for=\"sk-estimator-id-28\" class=\"sk-toggleable__label sk-toggleable__label-arrow\">AddDowTransformer</label><div class=\"sk-toggleable__content\"><pre>AddDowTransformer()</pre></div></div></div><div class=\"sk-item\"><div class=\"sk-estimator sk-toggleable\"><input class=\"sk-toggleable__control sk-hidden--visually\" id=\"sk-estimator-id-29\" type=\"checkbox\" ><label for=\"sk-estimator-id-29\" class=\"sk-toggleable__label sk-toggleable__label-arrow\">FeatureSelectorTransformer</label><div class=\"sk-toggleable__content\"><pre>FeatureSelectorTransformer(features=[&#x27;transformed_dow&#x27;, &#x27;dow&#x27;,\n",
       "                                     &#x27;surgery_classification_name&#x27;,\n",
       "                                     &#x27;surgery_department_code&#x27;,\n",
       "                                     &#x27;surgery_diagnosis_code&#x27;,\n",
       "                                     &#x27;surgery_diagnosis_code2&#x27;,\n",
       "                                     &#x27;surgery_diagnosis_code3&#x27;,\n",
       "                                     &#x27;surgery_diagnosis_code4&#x27;,\n",
       "                                     &#x27;surgery_diagnosis_code5&#x27;,\n",
       "                                     &#x27;surgery_internal_code&#x27;,\n",
       "                                     &#x27;surgery_internal_code2&#x27;,\n",
       "                                     &#x27;surgery_internal_code3&#x27;,\n",
       "                                     &#x27;surgery_internal_code4&#x27;,\n",
       "                                     &#x27;surg...\n",
       "                                     &#x27;or_reservation_operation_duration&#x27;,\n",
       "                                     &#x27;staff_main_surgeon_name&#x27;,\n",
       "                                     &#x27;staff_main_surgeon_name2&#x27;,\n",
       "                                     &#x27;staff_main_surgeon_name3&#x27;,\n",
       "                                     &#x27;staff_main_surgeon_name4&#x27;,\n",
       "                                     &#x27;staff_main_surgeon_name5&#x27;,\n",
       "                                     &#x27;staff_main_surgeon_name6&#x27;,\n",
       "                                     &#x27;staff_main_surgeon_name7&#x27;,\n",
       "                                     &#x27;staff_main_surgeon_name8&#x27;,\n",
       "                                     &#x27;surgeon_anes_name1&#x27;, &#x27;surgeon_anes_name2&#x27;,\n",
       "                                     &#x27;surgeon_anes_name3&#x27;, &#x27;surgeon_anes_name4&#x27;,\n",
       "                                     &#x27;surgeon_anes_name5&#x27;, &#x27;scrub_nurse_name1&#x27;, ...])</pre></div></div></div><div class=\"sk-item sk-dashed-wrapped\"><div class=\"sk-label-container\"><div class=\"sk-label sk-toggleable\"><input class=\"sk-toggleable__control sk-hidden--visually\" id=\"sk-estimator-id-30\" type=\"checkbox\" ><label for=\"sk-estimator-id-30\" class=\"sk-toggleable__label sk-toggleable__label-arrow\">combine_all_transformers: ColumnTransformer</label><div class=\"sk-toggleable__content\"><pre>ColumnTransformer(transformers=[(&#x27;impactencodingtransformer&#x27;,\n",
       "                                 ImpactEncodingTransformer(),\n",
       "                                 [&#x27;transformed_dow&#x27;,\n",
       "                                  &#x27;surgery_classification_name&#x27;,\n",
       "                                  &#x27;surgery_department_code&#x27;,\n",
       "                                  &#x27;surgery_diagnosis_code&#x27;,\n",
       "                                  &#x27;surgery_internal_code&#x27;,\n",
       "                                  &#x27;surgery_anes_method_code&#x27;, &#x27;or_vendor_code&#x27;,\n",
       "                                  &#x27;staff_main_surgeon_name&#x27;,\n",
       "                                  &#x27;surgeon_anes_name1&#x27;, &#x27;surgeon_anes_name2&#x27;,\n",
       "                                  &#x27;surgeon_anes_name3&#x27;, &#x27;sur...\n",
       "                                (&#x27;counttransformer-7&#x27;, CountTransformer(),\n",
       "                                 [&#x27;surgery_equipment_vendor_code1&#x27;,\n",
       "                                  &#x27;surgery_equipment_vendor_code2&#x27;,\n",
       "                                  &#x27;surgery_equipment_vendor_code3&#x27;,\n",
       "                                  &#x27;surgery_equipment_vendor_code4&#x27;,\n",
       "                                  &#x27;surgery_equipment_vendor_code5&#x27;,\n",
       "                                  &#x27;surgery_equipment_vendor_code6&#x27;,\n",
       "                                  &#x27;surgery_equipment_vendor_code7&#x27;,\n",
       "                                  &#x27;surgery_equipment_vendor_code8&#x27;]),\n",
       "                                (&#x27;passthrough&#x27;, &#x27;passthrough&#x27;,\n",
       "                                 [&#x27;or_reservation_operation_duration&#x27;])])</pre></div></div></div><div class=\"sk-parallel\"><div class=\"sk-parallel-item\"><div class=\"sk-item\"><div class=\"sk-label-container\"><div class=\"sk-label sk-toggleable\"><input class=\"sk-toggleable__control sk-hidden--visually\" id=\"sk-estimator-id-31\" type=\"checkbox\" ><label for=\"sk-estimator-id-31\" class=\"sk-toggleable__label sk-toggleable__label-arrow\">impactencodingtransformer</label><div class=\"sk-toggleable__content\"><pre>[&#x27;transformed_dow&#x27;, &#x27;surgery_classification_name&#x27;, &#x27;surgery_department_code&#x27;, &#x27;surgery_diagnosis_code&#x27;, &#x27;surgery_internal_code&#x27;, &#x27;surgery_anes_method_code&#x27;, &#x27;or_vendor_code&#x27;, &#x27;staff_main_surgeon_name&#x27;, &#x27;surgeon_anes_name1&#x27;, &#x27;surgeon_anes_name2&#x27;, &#x27;surgeon_anes_name3&#x27;, &#x27;surgeon_anes_name4&#x27;, &#x27;surgeon_anes_name5&#x27;, &#x27;scrub_nurse_name1&#x27;, &#x27;scrub_nurse_name2&#x27;, &#x27;circulating_nurse_name1&#x27;, &#x27;circulating_nurse_name2&#x27;, &#x27;surgery_ward_code&#x27;, &#x27;surgery_position_code2&#x27;, &#x27;surgery_position_name&#x27;, &#x27;surgery_equipment_vendor_code1&#x27;, &#x27;surgery_equipment_vendor_code2&#x27;, &#x27;on_call&#x27;, &#x27;cancel&#x27;, &#x27;wom&#x27;, &#x27;month&#x27;, &#x27;year&#x27;]</pre></div></div></div><div class=\"sk-serial\"><div class=\"sk-item\"><div class=\"sk-estimator sk-toggleable\"><input class=\"sk-toggleable__control sk-hidden--visually\" id=\"sk-estimator-id-32\" type=\"checkbox\" ><label for=\"sk-estimator-id-32\" class=\"sk-toggleable__label sk-toggleable__label-arrow\">ImpactEncodingTransformer</label><div class=\"sk-toggleable__content\"><pre>ImpactEncodingTransformer()</pre></div></div></div></div></div></div><div class=\"sk-parallel-item\"><div class=\"sk-item\"><div class=\"sk-label-container\"><div class=\"sk-label sk-toggleable\"><input class=\"sk-toggleable__control sk-hidden--visually\" id=\"sk-estimator-id-33\" type=\"checkbox\" ><label for=\"sk-estimator-id-33\" class=\"sk-toggleable__label sk-toggleable__label-arrow\">counttransformer-1</label><div class=\"sk-toggleable__content\"><pre>[&#x27;surgery_diagnosis_code&#x27;, &#x27;surgery_diagnosis_code2&#x27;, &#x27;surgery_diagnosis_code3&#x27;, &#x27;surgery_diagnosis_code4&#x27;, &#x27;surgery_diagnosis_code5&#x27;]</pre></div></div></div><div class=\"sk-serial\"><div class=\"sk-item\"><div class=\"sk-estimator sk-toggleable\"><input class=\"sk-toggleable__control sk-hidden--visually\" id=\"sk-estimator-id-34\" type=\"checkbox\" ><label for=\"sk-estimator-id-34\" class=\"sk-toggleable__label sk-toggleable__label-arrow\">CountTransformer</label><div class=\"sk-toggleable__content\"><pre>CountTransformer()</pre></div></div></div></div></div></div><div class=\"sk-parallel-item\"><div class=\"sk-item\"><div class=\"sk-label-container\"><div class=\"sk-label sk-toggleable\"><input class=\"sk-toggleable__control sk-hidden--visually\" id=\"sk-estimator-id-35\" type=\"checkbox\" ><label for=\"sk-estimator-id-35\" class=\"sk-toggleable__label sk-toggleable__label-arrow\">counttransformer-2</label><div class=\"sk-toggleable__content\"><pre>[&#x27;surgery_internal_code&#x27;, &#x27;surgery_internal_code2&#x27;, &#x27;surgery_internal_code3&#x27;, &#x27;surgery_internal_code4&#x27;]</pre></div></div></div><div class=\"sk-serial\"><div class=\"sk-item\"><div class=\"sk-estimator sk-toggleable\"><input class=\"sk-toggleable__control sk-hidden--visually\" id=\"sk-estimator-id-36\" type=\"checkbox\" ><label for=\"sk-estimator-id-36\" class=\"sk-toggleable__label sk-toggleable__label-arrow\">CountTransformer</label><div class=\"sk-toggleable__content\"><pre>CountTransformer()</pre></div></div></div></div></div></div><div class=\"sk-parallel-item\"><div class=\"sk-item\"><div class=\"sk-label-container\"><div class=\"sk-label sk-toggleable\"><input class=\"sk-toggleable__control sk-hidden--visually\" id=\"sk-estimator-id-37\" type=\"checkbox\" ><label for=\"sk-estimator-id-37\" class=\"sk-toggleable__label sk-toggleable__label-arrow\">counttransformer-3</label><div class=\"sk-toggleable__content\"><pre>[&#x27;staff_main_surgeon_name&#x27;, &#x27;staff_main_surgeon_name2&#x27;, &#x27;staff_main_surgeon_name3&#x27;, &#x27;staff_main_surgeon_name4&#x27;, &#x27;staff_main_surgeon_name5&#x27;, &#x27;staff_main_surgeon_name6&#x27;, &#x27;staff_main_surgeon_name7&#x27;, &#x27;staff_main_surgeon_name8&#x27;]</pre></div></div></div><div class=\"sk-serial\"><div class=\"sk-item\"><div class=\"sk-estimator sk-toggleable\"><input class=\"sk-toggleable__control sk-hidden--visually\" id=\"sk-estimator-id-38\" type=\"checkbox\" ><label for=\"sk-estimator-id-38\" class=\"sk-toggleable__label sk-toggleable__label-arrow\">CountTransformer</label><div class=\"sk-toggleable__content\"><pre>CountTransformer()</pre></div></div></div></div></div></div><div class=\"sk-parallel-item\"><div class=\"sk-item\"><div class=\"sk-label-container\"><div class=\"sk-label sk-toggleable\"><input class=\"sk-toggleable__control sk-hidden--visually\" id=\"sk-estimator-id-39\" type=\"checkbox\" ><label for=\"sk-estimator-id-39\" class=\"sk-toggleable__label sk-toggleable__label-arrow\">counttransformer-4</label><div class=\"sk-toggleable__content\"><pre>[&#x27;surgeon_anes_name1&#x27;, &#x27;surgeon_anes_name2&#x27;, &#x27;surgeon_anes_name3&#x27;, &#x27;surgeon_anes_name4&#x27;, &#x27;surgeon_anes_name5&#x27;]</pre></div></div></div><div class=\"sk-serial\"><div class=\"sk-item\"><div class=\"sk-estimator sk-toggleable\"><input class=\"sk-toggleable__control sk-hidden--visually\" id=\"sk-estimator-id-40\" type=\"checkbox\" ><label for=\"sk-estimator-id-40\" class=\"sk-toggleable__label sk-toggleable__label-arrow\">CountTransformer</label><div class=\"sk-toggleable__content\"><pre>CountTransformer()</pre></div></div></div></div></div></div><div class=\"sk-parallel-item\"><div class=\"sk-item\"><div class=\"sk-label-container\"><div class=\"sk-label sk-toggleable\"><input class=\"sk-toggleable__control sk-hidden--visually\" id=\"sk-estimator-id-41\" type=\"checkbox\" ><label for=\"sk-estimator-id-41\" class=\"sk-toggleable__label sk-toggleable__label-arrow\">counttransformer-5</label><div class=\"sk-toggleable__content\"><pre>[&#x27;scrub_nurse_name1&#x27;, &#x27;scrub_nurse_name2&#x27;, &#x27;scrub_nurse_name3&#x27;, &#x27;scrub_nurse_name4&#x27;]</pre></div></div></div><div class=\"sk-serial\"><div class=\"sk-item\"><div class=\"sk-estimator sk-toggleable\"><input class=\"sk-toggleable__control sk-hidden--visually\" id=\"sk-estimator-id-42\" type=\"checkbox\" ><label for=\"sk-estimator-id-42\" class=\"sk-toggleable__label sk-toggleable__label-arrow\">CountTransformer</label><div class=\"sk-toggleable__content\"><pre>CountTransformer()</pre></div></div></div></div></div></div><div class=\"sk-parallel-item\"><div class=\"sk-item\"><div class=\"sk-label-container\"><div class=\"sk-label sk-toggleable\"><input class=\"sk-toggleable__control sk-hidden--visually\" id=\"sk-estimator-id-43\" type=\"checkbox\" ><label for=\"sk-estimator-id-43\" class=\"sk-toggleable__label sk-toggleable__label-arrow\">counttransformer-6</label><div class=\"sk-toggleable__content\"><pre>[&#x27;circulating_nurse_name1&#x27;, &#x27;circulating_nurse_name2&#x27;, &#x27;circulating_nurse_name3&#x27;, &#x27;circulating_nurse_name4&#x27;]</pre></div></div></div><div class=\"sk-serial\"><div class=\"sk-item\"><div class=\"sk-estimator sk-toggleable\"><input class=\"sk-toggleable__control sk-hidden--visually\" id=\"sk-estimator-id-44\" type=\"checkbox\" ><label for=\"sk-estimator-id-44\" class=\"sk-toggleable__label sk-toggleable__label-arrow\">CountTransformer</label><div class=\"sk-toggleable__content\"><pre>CountTransformer()</pre></div></div></div></div></div></div><div class=\"sk-parallel-item\"><div class=\"sk-item\"><div class=\"sk-label-container\"><div class=\"sk-label sk-toggleable\"><input class=\"sk-toggleable__control sk-hidden--visually\" id=\"sk-estimator-id-45\" type=\"checkbox\" ><label for=\"sk-estimator-id-45\" class=\"sk-toggleable__label sk-toggleable__label-arrow\">counttransformer-7</label><div class=\"sk-toggleable__content\"><pre>[&#x27;surgery_equipment_vendor_code1&#x27;, &#x27;surgery_equipment_vendor_code2&#x27;, &#x27;surgery_equipment_vendor_code3&#x27;, &#x27;surgery_equipment_vendor_code4&#x27;, &#x27;surgery_equipment_vendor_code5&#x27;, &#x27;surgery_equipment_vendor_code6&#x27;, &#x27;surgery_equipment_vendor_code7&#x27;, &#x27;surgery_equipment_vendor_code8&#x27;]</pre></div></div></div><div class=\"sk-serial\"><div class=\"sk-item\"><div class=\"sk-estimator sk-toggleable\"><input class=\"sk-toggleable__control sk-hidden--visually\" id=\"sk-estimator-id-46\" type=\"checkbox\" ><label for=\"sk-estimator-id-46\" class=\"sk-toggleable__label sk-toggleable__label-arrow\">CountTransformer</label><div class=\"sk-toggleable__content\"><pre>CountTransformer()</pre></div></div></div></div></div></div><div class=\"sk-parallel-item\"><div class=\"sk-item\"><div class=\"sk-label-container\"><div class=\"sk-label sk-toggleable\"><input class=\"sk-toggleable__control sk-hidden--visually\" id=\"sk-estimator-id-47\" type=\"checkbox\" ><label for=\"sk-estimator-id-47\" class=\"sk-toggleable__label sk-toggleable__label-arrow\">passthrough</label><div class=\"sk-toggleable__content\"><pre>[&#x27;or_reservation_operation_duration&#x27;]</pre></div></div></div><div class=\"sk-serial\"><div class=\"sk-item\"><div class=\"sk-estimator sk-toggleable\"><input class=\"sk-toggleable__control sk-hidden--visually\" id=\"sk-estimator-id-48\" type=\"checkbox\" ><label for=\"sk-estimator-id-48\" class=\"sk-toggleable__label sk-toggleable__label-arrow\">passthrough</label><div class=\"sk-toggleable__content\"><pre>passthrough</pre></div></div></div></div></div></div></div></div><div class=\"sk-item\"><div class=\"sk-estimator sk-toggleable\"><input class=\"sk-toggleable__control sk-hidden--visually\" id=\"sk-estimator-id-49\" type=\"checkbox\" ><label for=\"sk-estimator-id-49\" class=\"sk-toggleable__label sk-toggleable__label-arrow\">StandardScaler</label><div class=\"sk-toggleable__content\"><pre>StandardScaler()</pre></div></div></div><div class=\"sk-item\"><div class=\"sk-estimator sk-toggleable\"><input class=\"sk-toggleable__control sk-hidden--visually\" id=\"sk-estimator-id-50\" type=\"checkbox\" ><label for=\"sk-estimator-id-50\" class=\"sk-toggleable__label sk-toggleable__label-arrow\">XGBRegressor</label><div class=\"sk-toggleable__content\"><pre>XGBRegressor(base_score=None, booster=None, callbacks=None,\n",
       "             colsample_bylevel=None, colsample_bynode=None,\n",
       "             colsample_bytree=None, early_stopping_rounds=None,\n",
       "             enable_categorical=False, eval_metric=None, feature_types=None,\n",
       "             gamma=None, gpu_id=None, grow_policy=None, importance_type=None,\n",
       "             interaction_constraints=None, learning_rate=None, max_bin=None,\n",
       "             max_cat_threshold=None, max_cat_to_onehot=None,\n",
       "             max_delta_step=None, max_depth=None, max_leaves=None,\n",
       "             min_child_weight=None, missing=nan, monotone_constraints=None,\n",
       "             n_estimators=100, n_jobs=None, num_parallel_tree=None,\n",
       "             predictor=None, random_state=None, ...)</pre></div></div></div></div></div></div></div>"
      ],
      "text/plain": [
       "Pipeline(steps=[('select_initial_features',\n",
       "                 FeatureSelectorTransformer(features=['dow',\n",
       "                                                      'surgery_classification_name',\n",
       "                                                      'surgery_department_code',\n",
       "                                                      'surgery_diagnosis_code',\n",
       "                                                      'surgery_diagnosis_code2',\n",
       "                                                      'surgery_diagnosis_code3',\n",
       "                                                      'surgery_diagnosis_code4',\n",
       "                                                      'surgery_diagnosis_code5',\n",
       "                                                      'surgery_internal_code',\n",
       "                                                      'surgery_internal_code2',\n",
       "                                                      'surgery_internal_code3',\n",
       "                                                      'surg...\n",
       "                              feature_types=None, gamma=None, gpu_id=None,\n",
       "                              grow_policy=None, importance_type=None,\n",
       "                              interaction_constraints=None, learning_rate=None,\n",
       "                              max_bin=None, max_cat_threshold=None,\n",
       "                              max_cat_to_onehot=None, max_delta_step=None,\n",
       "                              max_depth=None, max_leaves=None,\n",
       "                              min_child_weight=None, missing=nan,\n",
       "                              monotone_constraints=None, n_estimators=100,\n",
       "                              n_jobs=None, num_parallel_tree=None,\n",
       "                              predictor=None, random_state=None, ...))])"
      ]
     },
     "execution_count": 28,
     "metadata": {},
     "output_type": "execute_result"
    }
   ],
   "source": [
    "pipe_xgboost.fit(X_train, y_train)"
   ]
  },
  {
   "cell_type": "code",
   "execution_count": 29,
   "id": "093b782f",
   "metadata": {},
   "outputs": [
    {
     "data": {
      "text/plain": [
       "array([ 41.463104, 153.98106 , 283.5324  , ..., 550.92    , 335.8193  ,\n",
       "        60.97048 ], dtype=float32)"
      ]
     },
     "execution_count": 29,
     "metadata": {},
     "output_type": "execute_result"
    }
   ],
   "source": [
    "pipe_xgboost.predict(X_test)"
   ]
  },
  {
   "cell_type": "markdown",
   "id": "f3de5ba8",
   "metadata": {},
   "source": [
    "# Cross Validation"
   ]
  },
  {
   "cell_type": "code",
   "execution_count": 30,
   "id": "5991ef0f",
   "metadata": {},
   "outputs": [],
   "source": [
    "def cross_validated_results(model_results):\n",
    "    df = pd.DataFrame()\n",
    "    df['MAE'] = model_results['test_neg_mean_absolute_error']\n",
    "    df['R2'] = model_results['test_r2']\n",
    "    return df.describe()"
   ]
  },
  {
   "cell_type": "code",
   "execution_count": 31,
   "id": "149090b9",
   "metadata": {},
   "outputs": [],
   "source": [
    "cv = KFold(n_splits=5, shuffle=True, random_state=101)\n",
    "scoring = ['neg_mean_absolute_error', 'r2']"
   ]
  },
  {
   "cell_type": "code",
   "execution_count": 32,
   "id": "8ffb052a",
   "metadata": {},
   "outputs": [],
   "source": [
    "lm_results = cross_validate(pipe_lm, X_train, y_train, scoring=scoring, cv=cv, n_jobs=-1)"
   ]
  },
  {
   "cell_type": "code",
   "execution_count": 33,
   "id": "73e1be96",
   "metadata": {},
   "outputs": [
    {
     "data": {
      "text/html": [
       "<div>\n",
       "<style scoped>\n",
       "    .dataframe tbody tr th:only-of-type {\n",
       "        vertical-align: middle;\n",
       "    }\n",
       "\n",
       "    .dataframe tbody tr th {\n",
       "        vertical-align: top;\n",
       "    }\n",
       "\n",
       "    .dataframe thead th {\n",
       "        text-align: right;\n",
       "    }\n",
       "</style>\n",
       "<table border=\"1\" class=\"dataframe\">\n",
       "  <thead>\n",
       "    <tr style=\"text-align: right;\">\n",
       "      <th></th>\n",
       "      <th>MAE</th>\n",
       "      <th>R2</th>\n",
       "    </tr>\n",
       "  </thead>\n",
       "  <tbody>\n",
       "    <tr>\n",
       "      <th>count</th>\n",
       "      <td>5.000000</td>\n",
       "      <td>5.000000</td>\n",
       "    </tr>\n",
       "    <tr>\n",
       "      <th>mean</th>\n",
       "      <td>-42.662376</td>\n",
       "      <td>0.865475</td>\n",
       "    </tr>\n",
       "    <tr>\n",
       "      <th>std</th>\n",
       "      <td>0.563866</td>\n",
       "      <td>0.012391</td>\n",
       "    </tr>\n",
       "    <tr>\n",
       "      <th>min</th>\n",
       "      <td>-43.419203</td>\n",
       "      <td>0.850640</td>\n",
       "    </tr>\n",
       "    <tr>\n",
       "      <th>25%</th>\n",
       "      <td>-42.822991</td>\n",
       "      <td>0.859305</td>\n",
       "    </tr>\n",
       "    <tr>\n",
       "      <th>50%</th>\n",
       "      <td>-42.628487</td>\n",
       "      <td>0.862045</td>\n",
       "    </tr>\n",
       "    <tr>\n",
       "      <th>75%</th>\n",
       "      <td>-42.595909</td>\n",
       "      <td>0.872907</td>\n",
       "    </tr>\n",
       "    <tr>\n",
       "      <th>max</th>\n",
       "      <td>-41.845290</td>\n",
       "      <td>0.882475</td>\n",
       "    </tr>\n",
       "  </tbody>\n",
       "</table>\n",
       "</div>"
      ],
      "text/plain": [
       "             MAE        R2\n",
       "count   5.000000  5.000000\n",
       "mean  -42.662376  0.865475\n",
       "std     0.563866  0.012391\n",
       "min   -43.419203  0.850640\n",
       "25%   -42.822991  0.859305\n",
       "50%   -42.628487  0.862045\n",
       "75%   -42.595909  0.872907\n",
       "max   -41.845290  0.882475"
      ]
     },
     "execution_count": 33,
     "metadata": {},
     "output_type": "execute_result"
    }
   ],
   "source": [
    "cross_validated_results(lm_results)"
   ]
  },
  {
   "cell_type": "code",
   "execution_count": 34,
   "id": "7b626a9a",
   "metadata": {},
   "outputs": [],
   "source": [
    "xgboost_results = cross_validate(pipe_xgboost, X_train, y_train, scoring=scoring, cv=cv, n_jobs=-1)"
   ]
  },
  {
   "cell_type": "code",
   "execution_count": 35,
   "id": "24e32b92",
   "metadata": {},
   "outputs": [
    {
     "data": {
      "text/html": [
       "<div>\n",
       "<style scoped>\n",
       "    .dataframe tbody tr th:only-of-type {\n",
       "        vertical-align: middle;\n",
       "    }\n",
       "\n",
       "    .dataframe tbody tr th {\n",
       "        vertical-align: top;\n",
       "    }\n",
       "\n",
       "    .dataframe thead th {\n",
       "        text-align: right;\n",
       "    }\n",
       "</style>\n",
       "<table border=\"1\" class=\"dataframe\">\n",
       "  <thead>\n",
       "    <tr style=\"text-align: right;\">\n",
       "      <th></th>\n",
       "      <th>MAE</th>\n",
       "      <th>R2</th>\n",
       "    </tr>\n",
       "  </thead>\n",
       "  <tbody>\n",
       "    <tr>\n",
       "      <th>count</th>\n",
       "      <td>5.000000</td>\n",
       "      <td>5.000000</td>\n",
       "    </tr>\n",
       "    <tr>\n",
       "      <th>mean</th>\n",
       "      <td>-39.286703</td>\n",
       "      <td>0.872470</td>\n",
       "    </tr>\n",
       "    <tr>\n",
       "      <th>std</th>\n",
       "      <td>0.991554</td>\n",
       "      <td>0.011781</td>\n",
       "    </tr>\n",
       "    <tr>\n",
       "      <th>min</th>\n",
       "      <td>-40.569785</td>\n",
       "      <td>0.853337</td>\n",
       "    </tr>\n",
       "    <tr>\n",
       "      <th>25%</th>\n",
       "      <td>-39.589089</td>\n",
       "      <td>0.871815</td>\n",
       "    </tr>\n",
       "    <tr>\n",
       "      <th>50%</th>\n",
       "      <td>-39.481999</td>\n",
       "      <td>0.873431</td>\n",
       "    </tr>\n",
       "    <tr>\n",
       "      <th>75%</th>\n",
       "      <td>-38.930770</td>\n",
       "      <td>0.879590</td>\n",
       "    </tr>\n",
       "    <tr>\n",
       "      <th>max</th>\n",
       "      <td>-37.861870</td>\n",
       "      <td>0.884178</td>\n",
       "    </tr>\n",
       "  </tbody>\n",
       "</table>\n",
       "</div>"
      ],
      "text/plain": [
       "             MAE        R2\n",
       "count   5.000000  5.000000\n",
       "mean  -39.286703  0.872470\n",
       "std     0.991554  0.011781\n",
       "min   -40.569785  0.853337\n",
       "25%   -39.589089  0.871815\n",
       "50%   -39.481999  0.873431\n",
       "75%   -38.930770  0.879590\n",
       "max   -37.861870  0.884178"
      ]
     },
     "execution_count": 35,
     "metadata": {},
     "output_type": "execute_result"
    }
   ],
   "source": [
    "cross_validated_results(xgboost_results)"
   ]
  },
  {
   "cell_type": "markdown",
   "id": "34c25ef9",
   "metadata": {},
   "source": [
    "# Fine tuning"
   ]
  },
  {
   "cell_type": "code",
   "execution_count": 36,
   "id": "771bd3ca",
   "metadata": {},
   "outputs": [],
   "source": [
    "\"\"\"\n",
    "5 iters with cv=3:\n",
    "{'xgboost__subsample': 0.8,\n",
    " 'xgboost__reg_alpha': 0.01,\n",
    " 'xgboost__min_child_weight': 5,\n",
    " 'xgboost__max_depth': 3,\n",
    " 'xgboost__gamma': 0.3,\n",
    " 'xgboost__colsample_bytree': 0.9}\n",
    "\n",
    "100 iters with cv=3:\n",
    "{'xgboost__subsample': 0.8,\n",
    " 'xgboost__reg_alpha': 100,\n",
    " 'xgboost__min_child_weight': 3,\n",
    " 'xgboost__max_depth': 3,\n",
    " 'xgboost__gamma': 0.1,\n",
    " 'xgboost__colsample_bytree': 0.7}\n",
    " \n",
    "400 iters with cv=5:\n",
    "{'xgboost__subsample': 1.0,\n",
    " 'xgboost__reg_alpha': 0.01,\n",
    " 'xgboost__min_child_weight': 1,\n",
    " 'xgboost__max_depth': 5,\n",
    " 'xgboost__gamma': 0.7,\n",
    " 'xgboost__colsample_bytree': 0.3}\n",
    "\n",
    "1000 iters with cv=5\n",
    "{'xgboost__subsample': 1.0,\n",
    " 'xgboost__reg_alpha': 0.5,\n",
    " 'xgboost__min_child_weight': 1,\n",
    " 'xgboost__max_depth': 5,\n",
    " 'xgboost__gamma': 0.0,\n",
    " 'xgboost__colsample_bytree': 0.4}\n",
    "\"\"\";"
   ]
  },
  {
   "cell_type": "code",
   "execution_count": 37,
   "id": "f45f0f26",
   "metadata": {},
   "outputs": [],
   "source": [
    "xgboost = XGBRegressor(\n",
    "     subsample=1.0,\n",
    "     reg_alpha=0.5,\n",
    "     min_child_weight=1,\n",
    "     max_depth=5,\n",
    "     gamma=0.0,\n",
    "     colsample_bytree=0.4,\n",
    "     random_state=4,\n",
    "     n_jobs=-1\n",
    ")"
   ]
  },
  {
   "cell_type": "code",
   "execution_count": 38,
   "id": "f2ec1dfa",
   "metadata": {},
   "outputs": [],
   "source": [
    "tuned_xgboost = Pipeline(\n",
    "    steps=[\n",
    "        ('select_initial_features', FeatureSelectorTransformer(INITIAL_FEATURES)),\n",
    "        ('add_dow_transformer', AddDowTransformer()),\n",
    "        ('select_more_features', FeatureSelectorTransformer(TRANSFORMED_FEATURES + INITIAL_FEATURES)),\n",
    "        ('combine_all_transformers', combine_all_transformers),\n",
    "        ('standard_scaler', StandardScaler()),\n",
    "        ('xgboost', xgboost),\n",
    "    ]\n",
    ")"
   ]
  },
  {
   "cell_type": "code",
   "execution_count": 39,
   "id": "686e04ed",
   "metadata": {},
   "outputs": [
    {
     "data": {
      "text/html": [
       "<style>#sk-container-id-3 {color: black;background-color: white;}#sk-container-id-3 pre{padding: 0;}#sk-container-id-3 div.sk-toggleable {background-color: white;}#sk-container-id-3 label.sk-toggleable__label {cursor: pointer;display: block;width: 100%;margin-bottom: 0;padding: 0.3em;box-sizing: border-box;text-align: center;}#sk-container-id-3 label.sk-toggleable__label-arrow:before {content: \"▸\";float: left;margin-right: 0.25em;color: #696969;}#sk-container-id-3 label.sk-toggleable__label-arrow:hover:before {color: black;}#sk-container-id-3 div.sk-estimator:hover label.sk-toggleable__label-arrow:before {color: black;}#sk-container-id-3 div.sk-toggleable__content {max-height: 0;max-width: 0;overflow: hidden;text-align: left;background-color: #f0f8ff;}#sk-container-id-3 div.sk-toggleable__content pre {margin: 0.2em;color: black;border-radius: 0.25em;background-color: #f0f8ff;}#sk-container-id-3 input.sk-toggleable__control:checked~div.sk-toggleable__content {max-height: 200px;max-width: 100%;overflow: auto;}#sk-container-id-3 input.sk-toggleable__control:checked~label.sk-toggleable__label-arrow:before {content: \"▾\";}#sk-container-id-3 div.sk-estimator input.sk-toggleable__control:checked~label.sk-toggleable__label {background-color: #d4ebff;}#sk-container-id-3 div.sk-label input.sk-toggleable__control:checked~label.sk-toggleable__label {background-color: #d4ebff;}#sk-container-id-3 input.sk-hidden--visually {border: 0;clip: rect(1px 1px 1px 1px);clip: rect(1px, 1px, 1px, 1px);height: 1px;margin: -1px;overflow: hidden;padding: 0;position: absolute;width: 1px;}#sk-container-id-3 div.sk-estimator {font-family: monospace;background-color: #f0f8ff;border: 1px dotted black;border-radius: 0.25em;box-sizing: border-box;margin-bottom: 0.5em;}#sk-container-id-3 div.sk-estimator:hover {background-color: #d4ebff;}#sk-container-id-3 div.sk-parallel-item::after {content: \"\";width: 100%;border-bottom: 1px solid gray;flex-grow: 1;}#sk-container-id-3 div.sk-label:hover label.sk-toggleable__label {background-color: #d4ebff;}#sk-container-id-3 div.sk-serial::before {content: \"\";position: absolute;border-left: 1px solid gray;box-sizing: border-box;top: 0;bottom: 0;left: 50%;z-index: 0;}#sk-container-id-3 div.sk-serial {display: flex;flex-direction: column;align-items: center;background-color: white;padding-right: 0.2em;padding-left: 0.2em;position: relative;}#sk-container-id-3 div.sk-item {position: relative;z-index: 1;}#sk-container-id-3 div.sk-parallel {display: flex;align-items: stretch;justify-content: center;background-color: white;position: relative;}#sk-container-id-3 div.sk-item::before, #sk-container-id-3 div.sk-parallel-item::before {content: \"\";position: absolute;border-left: 1px solid gray;box-sizing: border-box;top: 0;bottom: 0;left: 50%;z-index: -1;}#sk-container-id-3 div.sk-parallel-item {display: flex;flex-direction: column;z-index: 1;position: relative;background-color: white;}#sk-container-id-3 div.sk-parallel-item:first-child::after {align-self: flex-end;width: 50%;}#sk-container-id-3 div.sk-parallel-item:last-child::after {align-self: flex-start;width: 50%;}#sk-container-id-3 div.sk-parallel-item:only-child::after {width: 0;}#sk-container-id-3 div.sk-dashed-wrapped {border: 1px dashed gray;margin: 0 0.4em 0.5em 0.4em;box-sizing: border-box;padding-bottom: 0.4em;background-color: white;}#sk-container-id-3 div.sk-label label {font-family: monospace;font-weight: bold;display: inline-block;line-height: 1.2em;}#sk-container-id-3 div.sk-label-container {text-align: center;}#sk-container-id-3 div.sk-container {/* jupyter's `normalize.less` sets `[hidden] { display: none; }` but bootstrap.min.css set `[hidden] { display: none !important; }` so we also need the `!important` here to be able to override the default hidden behavior on the sphinx rendered scikit-learn.org. See: https://github.com/scikit-learn/scikit-learn/issues/21755 */display: inline-block !important;position: relative;}#sk-container-id-3 div.sk-text-repr-fallback {display: none;}</style><div id=\"sk-container-id-3\" class=\"sk-top-container\"><div class=\"sk-text-repr-fallback\"><pre>Pipeline(steps=[(&#x27;select_initial_features&#x27;,\n",
       "                 FeatureSelectorTransformer(features=[&#x27;dow&#x27;,\n",
       "                                                      &#x27;surgery_classification_name&#x27;,\n",
       "                                                      &#x27;surgery_department_code&#x27;,\n",
       "                                                      &#x27;surgery_diagnosis_code&#x27;,\n",
       "                                                      &#x27;surgery_diagnosis_code2&#x27;,\n",
       "                                                      &#x27;surgery_diagnosis_code3&#x27;,\n",
       "                                                      &#x27;surgery_diagnosis_code4&#x27;,\n",
       "                                                      &#x27;surgery_diagnosis_code5&#x27;,\n",
       "                                                      &#x27;surgery_internal_code&#x27;,\n",
       "                                                      &#x27;surgery_internal_code2&#x27;,\n",
       "                                                      &#x27;surgery_internal_code3&#x27;,\n",
       "                                                      &#x27;surg...\n",
       "                              feature_types=None, gamma=0.0, gpu_id=None,\n",
       "                              grow_policy=None, importance_type=None,\n",
       "                              interaction_constraints=None, learning_rate=None,\n",
       "                              max_bin=None, max_cat_threshold=None,\n",
       "                              max_cat_to_onehot=None, max_delta_step=None,\n",
       "                              max_depth=5, max_leaves=None, min_child_weight=1,\n",
       "                              missing=nan, monotone_constraints=None,\n",
       "                              n_estimators=100, n_jobs=-1,\n",
       "                              num_parallel_tree=None, predictor=None,\n",
       "                              random_state=4, ...))])</pre><b>In a Jupyter environment, please rerun this cell to show the HTML representation or trust the notebook. <br />On GitHub, the HTML representation is unable to render, please try loading this page with nbviewer.org.</b></div><div class=\"sk-container\" hidden><div class=\"sk-item sk-dashed-wrapped\"><div class=\"sk-label-container\"><div class=\"sk-label sk-toggleable\"><input class=\"sk-toggleable__control sk-hidden--visually\" id=\"sk-estimator-id-51\" type=\"checkbox\" ><label for=\"sk-estimator-id-51\" class=\"sk-toggleable__label sk-toggleable__label-arrow\">Pipeline</label><div class=\"sk-toggleable__content\"><pre>Pipeline(steps=[(&#x27;select_initial_features&#x27;,\n",
       "                 FeatureSelectorTransformer(features=[&#x27;dow&#x27;,\n",
       "                                                      &#x27;surgery_classification_name&#x27;,\n",
       "                                                      &#x27;surgery_department_code&#x27;,\n",
       "                                                      &#x27;surgery_diagnosis_code&#x27;,\n",
       "                                                      &#x27;surgery_diagnosis_code2&#x27;,\n",
       "                                                      &#x27;surgery_diagnosis_code3&#x27;,\n",
       "                                                      &#x27;surgery_diagnosis_code4&#x27;,\n",
       "                                                      &#x27;surgery_diagnosis_code5&#x27;,\n",
       "                                                      &#x27;surgery_internal_code&#x27;,\n",
       "                                                      &#x27;surgery_internal_code2&#x27;,\n",
       "                                                      &#x27;surgery_internal_code3&#x27;,\n",
       "                                                      &#x27;surg...\n",
       "                              feature_types=None, gamma=0.0, gpu_id=None,\n",
       "                              grow_policy=None, importance_type=None,\n",
       "                              interaction_constraints=None, learning_rate=None,\n",
       "                              max_bin=None, max_cat_threshold=None,\n",
       "                              max_cat_to_onehot=None, max_delta_step=None,\n",
       "                              max_depth=5, max_leaves=None, min_child_weight=1,\n",
       "                              missing=nan, monotone_constraints=None,\n",
       "                              n_estimators=100, n_jobs=-1,\n",
       "                              num_parallel_tree=None, predictor=None,\n",
       "                              random_state=4, ...))])</pre></div></div></div><div class=\"sk-serial\"><div class=\"sk-item\"><div class=\"sk-estimator sk-toggleable\"><input class=\"sk-toggleable__control sk-hidden--visually\" id=\"sk-estimator-id-52\" type=\"checkbox\" ><label for=\"sk-estimator-id-52\" class=\"sk-toggleable__label sk-toggleable__label-arrow\">FeatureSelectorTransformer</label><div class=\"sk-toggleable__content\"><pre>FeatureSelectorTransformer(features=[&#x27;dow&#x27;, &#x27;surgery_classification_name&#x27;,\n",
       "                                     &#x27;surgery_department_code&#x27;,\n",
       "                                     &#x27;surgery_diagnosis_code&#x27;,\n",
       "                                     &#x27;surgery_diagnosis_code2&#x27;,\n",
       "                                     &#x27;surgery_diagnosis_code3&#x27;,\n",
       "                                     &#x27;surgery_diagnosis_code4&#x27;,\n",
       "                                     &#x27;surgery_diagnosis_code5&#x27;,\n",
       "                                     &#x27;surgery_internal_code&#x27;,\n",
       "                                     &#x27;surgery_internal_code2&#x27;,\n",
       "                                     &#x27;surgery_internal_code3&#x27;,\n",
       "                                     &#x27;surgery_internal_code4&#x27;,\n",
       "                                     &#x27;surgery_anes_method_co...\n",
       "                                     &#x27;staff_main_surgeon_name&#x27;,\n",
       "                                     &#x27;staff_main_surgeon_name2&#x27;,\n",
       "                                     &#x27;staff_main_surgeon_name3&#x27;,\n",
       "                                     &#x27;staff_main_surgeon_name4&#x27;,\n",
       "                                     &#x27;staff_main_surgeon_name5&#x27;,\n",
       "                                     &#x27;staff_main_surgeon_name6&#x27;,\n",
       "                                     &#x27;staff_main_surgeon_name7&#x27;,\n",
       "                                     &#x27;staff_main_surgeon_name8&#x27;,\n",
       "                                     &#x27;surgeon_anes_name1&#x27;, &#x27;surgeon_anes_name2&#x27;,\n",
       "                                     &#x27;surgeon_anes_name3&#x27;, &#x27;surgeon_anes_name4&#x27;,\n",
       "                                     &#x27;surgeon_anes_name5&#x27;, &#x27;scrub_nurse_name1&#x27;,\n",
       "                                     &#x27;scrub_nurse_name2&#x27;, ...])</pre></div></div></div><div class=\"sk-item\"><div class=\"sk-estimator sk-toggleable\"><input class=\"sk-toggleable__control sk-hidden--visually\" id=\"sk-estimator-id-53\" type=\"checkbox\" ><label for=\"sk-estimator-id-53\" class=\"sk-toggleable__label sk-toggleable__label-arrow\">AddDowTransformer</label><div class=\"sk-toggleable__content\"><pre>AddDowTransformer()</pre></div></div></div><div class=\"sk-item\"><div class=\"sk-estimator sk-toggleable\"><input class=\"sk-toggleable__control sk-hidden--visually\" id=\"sk-estimator-id-54\" type=\"checkbox\" ><label for=\"sk-estimator-id-54\" class=\"sk-toggleable__label sk-toggleable__label-arrow\">FeatureSelectorTransformer</label><div class=\"sk-toggleable__content\"><pre>FeatureSelectorTransformer(features=[&#x27;transformed_dow&#x27;, &#x27;dow&#x27;,\n",
       "                                     &#x27;surgery_classification_name&#x27;,\n",
       "                                     &#x27;surgery_department_code&#x27;,\n",
       "                                     &#x27;surgery_diagnosis_code&#x27;,\n",
       "                                     &#x27;surgery_diagnosis_code2&#x27;,\n",
       "                                     &#x27;surgery_diagnosis_code3&#x27;,\n",
       "                                     &#x27;surgery_diagnosis_code4&#x27;,\n",
       "                                     &#x27;surgery_diagnosis_code5&#x27;,\n",
       "                                     &#x27;surgery_internal_code&#x27;,\n",
       "                                     &#x27;surgery_internal_code2&#x27;,\n",
       "                                     &#x27;surgery_internal_code3&#x27;,\n",
       "                                     &#x27;surgery_internal_code4&#x27;,\n",
       "                                     &#x27;surg...\n",
       "                                     &#x27;or_reservation_operation_duration&#x27;,\n",
       "                                     &#x27;staff_main_surgeon_name&#x27;,\n",
       "                                     &#x27;staff_main_surgeon_name2&#x27;,\n",
       "                                     &#x27;staff_main_surgeon_name3&#x27;,\n",
       "                                     &#x27;staff_main_surgeon_name4&#x27;,\n",
       "                                     &#x27;staff_main_surgeon_name5&#x27;,\n",
       "                                     &#x27;staff_main_surgeon_name6&#x27;,\n",
       "                                     &#x27;staff_main_surgeon_name7&#x27;,\n",
       "                                     &#x27;staff_main_surgeon_name8&#x27;,\n",
       "                                     &#x27;surgeon_anes_name1&#x27;, &#x27;surgeon_anes_name2&#x27;,\n",
       "                                     &#x27;surgeon_anes_name3&#x27;, &#x27;surgeon_anes_name4&#x27;,\n",
       "                                     &#x27;surgeon_anes_name5&#x27;, &#x27;scrub_nurse_name1&#x27;, ...])</pre></div></div></div><div class=\"sk-item sk-dashed-wrapped\"><div class=\"sk-label-container\"><div class=\"sk-label sk-toggleable\"><input class=\"sk-toggleable__control sk-hidden--visually\" id=\"sk-estimator-id-55\" type=\"checkbox\" ><label for=\"sk-estimator-id-55\" class=\"sk-toggleable__label sk-toggleable__label-arrow\">combine_all_transformers: ColumnTransformer</label><div class=\"sk-toggleable__content\"><pre>ColumnTransformer(transformers=[(&#x27;impactencodingtransformer&#x27;,\n",
       "                                 ImpactEncodingTransformer(),\n",
       "                                 [&#x27;transformed_dow&#x27;,\n",
       "                                  &#x27;surgery_classification_name&#x27;,\n",
       "                                  &#x27;surgery_department_code&#x27;,\n",
       "                                  &#x27;surgery_diagnosis_code&#x27;,\n",
       "                                  &#x27;surgery_internal_code&#x27;,\n",
       "                                  &#x27;surgery_anes_method_code&#x27;, &#x27;or_vendor_code&#x27;,\n",
       "                                  &#x27;staff_main_surgeon_name&#x27;,\n",
       "                                  &#x27;surgeon_anes_name1&#x27;, &#x27;surgeon_anes_name2&#x27;,\n",
       "                                  &#x27;surgeon_anes_name3&#x27;, &#x27;sur...\n",
       "                                (&#x27;counttransformer-7&#x27;, CountTransformer(),\n",
       "                                 [&#x27;surgery_equipment_vendor_code1&#x27;,\n",
       "                                  &#x27;surgery_equipment_vendor_code2&#x27;,\n",
       "                                  &#x27;surgery_equipment_vendor_code3&#x27;,\n",
       "                                  &#x27;surgery_equipment_vendor_code4&#x27;,\n",
       "                                  &#x27;surgery_equipment_vendor_code5&#x27;,\n",
       "                                  &#x27;surgery_equipment_vendor_code6&#x27;,\n",
       "                                  &#x27;surgery_equipment_vendor_code7&#x27;,\n",
       "                                  &#x27;surgery_equipment_vendor_code8&#x27;]),\n",
       "                                (&#x27;passthrough&#x27;, &#x27;passthrough&#x27;,\n",
       "                                 [&#x27;or_reservation_operation_duration&#x27;])])</pre></div></div></div><div class=\"sk-parallel\"><div class=\"sk-parallel-item\"><div class=\"sk-item\"><div class=\"sk-label-container\"><div class=\"sk-label sk-toggleable\"><input class=\"sk-toggleable__control sk-hidden--visually\" id=\"sk-estimator-id-56\" type=\"checkbox\" ><label for=\"sk-estimator-id-56\" class=\"sk-toggleable__label sk-toggleable__label-arrow\">impactencodingtransformer</label><div class=\"sk-toggleable__content\"><pre>[&#x27;transformed_dow&#x27;, &#x27;surgery_classification_name&#x27;, &#x27;surgery_department_code&#x27;, &#x27;surgery_diagnosis_code&#x27;, &#x27;surgery_internal_code&#x27;, &#x27;surgery_anes_method_code&#x27;, &#x27;or_vendor_code&#x27;, &#x27;staff_main_surgeon_name&#x27;, &#x27;surgeon_anes_name1&#x27;, &#x27;surgeon_anes_name2&#x27;, &#x27;surgeon_anes_name3&#x27;, &#x27;surgeon_anes_name4&#x27;, &#x27;surgeon_anes_name5&#x27;, &#x27;scrub_nurse_name1&#x27;, &#x27;scrub_nurse_name2&#x27;, &#x27;circulating_nurse_name1&#x27;, &#x27;circulating_nurse_name2&#x27;, &#x27;surgery_ward_code&#x27;, &#x27;surgery_position_code2&#x27;, &#x27;surgery_position_name&#x27;, &#x27;surgery_equipment_vendor_code1&#x27;, &#x27;surgery_equipment_vendor_code2&#x27;, &#x27;on_call&#x27;, &#x27;cancel&#x27;, &#x27;wom&#x27;, &#x27;month&#x27;, &#x27;year&#x27;]</pre></div></div></div><div class=\"sk-serial\"><div class=\"sk-item\"><div class=\"sk-estimator sk-toggleable\"><input class=\"sk-toggleable__control sk-hidden--visually\" id=\"sk-estimator-id-57\" type=\"checkbox\" ><label for=\"sk-estimator-id-57\" class=\"sk-toggleable__label sk-toggleable__label-arrow\">ImpactEncodingTransformer</label><div class=\"sk-toggleable__content\"><pre>ImpactEncodingTransformer()</pre></div></div></div></div></div></div><div class=\"sk-parallel-item\"><div class=\"sk-item\"><div class=\"sk-label-container\"><div class=\"sk-label sk-toggleable\"><input class=\"sk-toggleable__control sk-hidden--visually\" id=\"sk-estimator-id-58\" type=\"checkbox\" ><label for=\"sk-estimator-id-58\" class=\"sk-toggleable__label sk-toggleable__label-arrow\">counttransformer-1</label><div class=\"sk-toggleable__content\"><pre>[&#x27;surgery_diagnosis_code&#x27;, &#x27;surgery_diagnosis_code2&#x27;, &#x27;surgery_diagnosis_code3&#x27;, &#x27;surgery_diagnosis_code4&#x27;, &#x27;surgery_diagnosis_code5&#x27;]</pre></div></div></div><div class=\"sk-serial\"><div class=\"sk-item\"><div class=\"sk-estimator sk-toggleable\"><input class=\"sk-toggleable__control sk-hidden--visually\" id=\"sk-estimator-id-59\" type=\"checkbox\" ><label for=\"sk-estimator-id-59\" class=\"sk-toggleable__label sk-toggleable__label-arrow\">CountTransformer</label><div class=\"sk-toggleable__content\"><pre>CountTransformer()</pre></div></div></div></div></div></div><div class=\"sk-parallel-item\"><div class=\"sk-item\"><div class=\"sk-label-container\"><div class=\"sk-label sk-toggleable\"><input class=\"sk-toggleable__control sk-hidden--visually\" id=\"sk-estimator-id-60\" type=\"checkbox\" ><label for=\"sk-estimator-id-60\" class=\"sk-toggleable__label sk-toggleable__label-arrow\">counttransformer-2</label><div class=\"sk-toggleable__content\"><pre>[&#x27;surgery_internal_code&#x27;, &#x27;surgery_internal_code2&#x27;, &#x27;surgery_internal_code3&#x27;, &#x27;surgery_internal_code4&#x27;]</pre></div></div></div><div class=\"sk-serial\"><div class=\"sk-item\"><div class=\"sk-estimator sk-toggleable\"><input class=\"sk-toggleable__control sk-hidden--visually\" id=\"sk-estimator-id-61\" type=\"checkbox\" ><label for=\"sk-estimator-id-61\" class=\"sk-toggleable__label sk-toggleable__label-arrow\">CountTransformer</label><div class=\"sk-toggleable__content\"><pre>CountTransformer()</pre></div></div></div></div></div></div><div class=\"sk-parallel-item\"><div class=\"sk-item\"><div class=\"sk-label-container\"><div class=\"sk-label sk-toggleable\"><input class=\"sk-toggleable__control sk-hidden--visually\" id=\"sk-estimator-id-62\" type=\"checkbox\" ><label for=\"sk-estimator-id-62\" class=\"sk-toggleable__label sk-toggleable__label-arrow\">counttransformer-3</label><div class=\"sk-toggleable__content\"><pre>[&#x27;staff_main_surgeon_name&#x27;, &#x27;staff_main_surgeon_name2&#x27;, &#x27;staff_main_surgeon_name3&#x27;, &#x27;staff_main_surgeon_name4&#x27;, &#x27;staff_main_surgeon_name5&#x27;, &#x27;staff_main_surgeon_name6&#x27;, &#x27;staff_main_surgeon_name7&#x27;, &#x27;staff_main_surgeon_name8&#x27;]</pre></div></div></div><div class=\"sk-serial\"><div class=\"sk-item\"><div class=\"sk-estimator sk-toggleable\"><input class=\"sk-toggleable__control sk-hidden--visually\" id=\"sk-estimator-id-63\" type=\"checkbox\" ><label for=\"sk-estimator-id-63\" class=\"sk-toggleable__label sk-toggleable__label-arrow\">CountTransformer</label><div class=\"sk-toggleable__content\"><pre>CountTransformer()</pre></div></div></div></div></div></div><div class=\"sk-parallel-item\"><div class=\"sk-item\"><div class=\"sk-label-container\"><div class=\"sk-label sk-toggleable\"><input class=\"sk-toggleable__control sk-hidden--visually\" id=\"sk-estimator-id-64\" type=\"checkbox\" ><label for=\"sk-estimator-id-64\" class=\"sk-toggleable__label sk-toggleable__label-arrow\">counttransformer-4</label><div class=\"sk-toggleable__content\"><pre>[&#x27;surgeon_anes_name1&#x27;, &#x27;surgeon_anes_name2&#x27;, &#x27;surgeon_anes_name3&#x27;, &#x27;surgeon_anes_name4&#x27;, &#x27;surgeon_anes_name5&#x27;]</pre></div></div></div><div class=\"sk-serial\"><div class=\"sk-item\"><div class=\"sk-estimator sk-toggleable\"><input class=\"sk-toggleable__control sk-hidden--visually\" id=\"sk-estimator-id-65\" type=\"checkbox\" ><label for=\"sk-estimator-id-65\" class=\"sk-toggleable__label sk-toggleable__label-arrow\">CountTransformer</label><div class=\"sk-toggleable__content\"><pre>CountTransformer()</pre></div></div></div></div></div></div><div class=\"sk-parallel-item\"><div class=\"sk-item\"><div class=\"sk-label-container\"><div class=\"sk-label sk-toggleable\"><input class=\"sk-toggleable__control sk-hidden--visually\" id=\"sk-estimator-id-66\" type=\"checkbox\" ><label for=\"sk-estimator-id-66\" class=\"sk-toggleable__label sk-toggleable__label-arrow\">counttransformer-5</label><div class=\"sk-toggleable__content\"><pre>[&#x27;scrub_nurse_name1&#x27;, &#x27;scrub_nurse_name2&#x27;, &#x27;scrub_nurse_name3&#x27;, &#x27;scrub_nurse_name4&#x27;]</pre></div></div></div><div class=\"sk-serial\"><div class=\"sk-item\"><div class=\"sk-estimator sk-toggleable\"><input class=\"sk-toggleable__control sk-hidden--visually\" id=\"sk-estimator-id-67\" type=\"checkbox\" ><label for=\"sk-estimator-id-67\" class=\"sk-toggleable__label sk-toggleable__label-arrow\">CountTransformer</label><div class=\"sk-toggleable__content\"><pre>CountTransformer()</pre></div></div></div></div></div></div><div class=\"sk-parallel-item\"><div class=\"sk-item\"><div class=\"sk-label-container\"><div class=\"sk-label sk-toggleable\"><input class=\"sk-toggleable__control sk-hidden--visually\" id=\"sk-estimator-id-68\" type=\"checkbox\" ><label for=\"sk-estimator-id-68\" class=\"sk-toggleable__label sk-toggleable__label-arrow\">counttransformer-6</label><div class=\"sk-toggleable__content\"><pre>[&#x27;circulating_nurse_name1&#x27;, &#x27;circulating_nurse_name2&#x27;, &#x27;circulating_nurse_name3&#x27;, &#x27;circulating_nurse_name4&#x27;]</pre></div></div></div><div class=\"sk-serial\"><div class=\"sk-item\"><div class=\"sk-estimator sk-toggleable\"><input class=\"sk-toggleable__control sk-hidden--visually\" id=\"sk-estimator-id-69\" type=\"checkbox\" ><label for=\"sk-estimator-id-69\" class=\"sk-toggleable__label sk-toggleable__label-arrow\">CountTransformer</label><div class=\"sk-toggleable__content\"><pre>CountTransformer()</pre></div></div></div></div></div></div><div class=\"sk-parallel-item\"><div class=\"sk-item\"><div class=\"sk-label-container\"><div class=\"sk-label sk-toggleable\"><input class=\"sk-toggleable__control sk-hidden--visually\" id=\"sk-estimator-id-70\" type=\"checkbox\" ><label for=\"sk-estimator-id-70\" class=\"sk-toggleable__label sk-toggleable__label-arrow\">counttransformer-7</label><div class=\"sk-toggleable__content\"><pre>[&#x27;surgery_equipment_vendor_code1&#x27;, &#x27;surgery_equipment_vendor_code2&#x27;, &#x27;surgery_equipment_vendor_code3&#x27;, &#x27;surgery_equipment_vendor_code4&#x27;, &#x27;surgery_equipment_vendor_code5&#x27;, &#x27;surgery_equipment_vendor_code6&#x27;, &#x27;surgery_equipment_vendor_code7&#x27;, &#x27;surgery_equipment_vendor_code8&#x27;]</pre></div></div></div><div class=\"sk-serial\"><div class=\"sk-item\"><div class=\"sk-estimator sk-toggleable\"><input class=\"sk-toggleable__control sk-hidden--visually\" id=\"sk-estimator-id-71\" type=\"checkbox\" ><label for=\"sk-estimator-id-71\" class=\"sk-toggleable__label sk-toggleable__label-arrow\">CountTransformer</label><div class=\"sk-toggleable__content\"><pre>CountTransformer()</pre></div></div></div></div></div></div><div class=\"sk-parallel-item\"><div class=\"sk-item\"><div class=\"sk-label-container\"><div class=\"sk-label sk-toggleable\"><input class=\"sk-toggleable__control sk-hidden--visually\" id=\"sk-estimator-id-72\" type=\"checkbox\" ><label for=\"sk-estimator-id-72\" class=\"sk-toggleable__label sk-toggleable__label-arrow\">passthrough</label><div class=\"sk-toggleable__content\"><pre>[&#x27;or_reservation_operation_duration&#x27;]</pre></div></div></div><div class=\"sk-serial\"><div class=\"sk-item\"><div class=\"sk-estimator sk-toggleable\"><input class=\"sk-toggleable__control sk-hidden--visually\" id=\"sk-estimator-id-73\" type=\"checkbox\" ><label for=\"sk-estimator-id-73\" class=\"sk-toggleable__label sk-toggleable__label-arrow\">passthrough</label><div class=\"sk-toggleable__content\"><pre>passthrough</pre></div></div></div></div></div></div></div></div><div class=\"sk-item\"><div class=\"sk-estimator sk-toggleable\"><input class=\"sk-toggleable__control sk-hidden--visually\" id=\"sk-estimator-id-74\" type=\"checkbox\" ><label for=\"sk-estimator-id-74\" class=\"sk-toggleable__label sk-toggleable__label-arrow\">StandardScaler</label><div class=\"sk-toggleable__content\"><pre>StandardScaler()</pre></div></div></div><div class=\"sk-item\"><div class=\"sk-estimator sk-toggleable\"><input class=\"sk-toggleable__control sk-hidden--visually\" id=\"sk-estimator-id-75\" type=\"checkbox\" ><label for=\"sk-estimator-id-75\" class=\"sk-toggleable__label sk-toggleable__label-arrow\">XGBRegressor</label><div class=\"sk-toggleable__content\"><pre>XGBRegressor(base_score=None, booster=None, callbacks=None,\n",
       "             colsample_bylevel=None, colsample_bynode=None,\n",
       "             colsample_bytree=0.4, early_stopping_rounds=None,\n",
       "             enable_categorical=False, eval_metric=None, feature_types=None,\n",
       "             gamma=0.0, gpu_id=None, grow_policy=None, importance_type=None,\n",
       "             interaction_constraints=None, learning_rate=None, max_bin=None,\n",
       "             max_cat_threshold=None, max_cat_to_onehot=None,\n",
       "             max_delta_step=None, max_depth=5, max_leaves=None,\n",
       "             min_child_weight=1, missing=nan, monotone_constraints=None,\n",
       "             n_estimators=100, n_jobs=-1, num_parallel_tree=None,\n",
       "             predictor=None, random_state=4, ...)</pre></div></div></div></div></div></div></div>"
      ],
      "text/plain": [
       "Pipeline(steps=[('select_initial_features',\n",
       "                 FeatureSelectorTransformer(features=['dow',\n",
       "                                                      'surgery_classification_name',\n",
       "                                                      'surgery_department_code',\n",
       "                                                      'surgery_diagnosis_code',\n",
       "                                                      'surgery_diagnosis_code2',\n",
       "                                                      'surgery_diagnosis_code3',\n",
       "                                                      'surgery_diagnosis_code4',\n",
       "                                                      'surgery_diagnosis_code5',\n",
       "                                                      'surgery_internal_code',\n",
       "                                                      'surgery_internal_code2',\n",
       "                                                      'surgery_internal_code3',\n",
       "                                                      'surg...\n",
       "                              feature_types=None, gamma=0.0, gpu_id=None,\n",
       "                              grow_policy=None, importance_type=None,\n",
       "                              interaction_constraints=None, learning_rate=None,\n",
       "                              max_bin=None, max_cat_threshold=None,\n",
       "                              max_cat_to_onehot=None, max_delta_step=None,\n",
       "                              max_depth=5, max_leaves=None, min_child_weight=1,\n",
       "                              missing=nan, monotone_constraints=None,\n",
       "                              n_estimators=100, n_jobs=-1,\n",
       "                              num_parallel_tree=None, predictor=None,\n",
       "                              random_state=4, ...))])"
      ]
     },
     "execution_count": 39,
     "metadata": {},
     "output_type": "execute_result"
    }
   ],
   "source": [
    "tuned_xgboost.fit(X_train, y_train)"
   ]
  },
  {
   "cell_type": "code",
   "execution_count": 40,
   "id": "e2518325",
   "metadata": {},
   "outputs": [],
   "source": [
    "model_params =  {\n",
    "    'xgboost__max_depth':[1,3,5,8],\n",
    "    'xgboost__min_child_weight':range(1,6,1),\n",
    "    'xgboost__gamma':[i/10.0 for i in range(0,10)],\n",
    "    'xgboost__subsample':[i/10.0 for i in range(3,15)],\n",
    "    'xgboost__colsample_bytree':[i/10.0 for i in range(1,10)],\n",
    "    'xgboost__reg_alpha':[1e-5, 1e-2, 0.03, 0.05, 0.08, 0.1, 0.15, 0.2, 0.5, 1, 100],\n",
    "}"
   ]
  },
  {
   "cell_type": "code",
   "execution_count": 41,
   "id": "8f49bb8f",
   "metadata": {},
   "outputs": [],
   "source": [
    "# tuned_xgboost = RandomizedSearchCV(tuned_xgboost, param_distributions=model_params, n_iter=1000, cv=5, random_state=42, n_jobs=-1)"
   ]
  },
  {
   "cell_type": "code",
   "execution_count": 42,
   "id": "298bff75",
   "metadata": {},
   "outputs": [],
   "source": [
    "# tuned_xgboost.get_params().keys()"
   ]
  },
  {
   "cell_type": "code",
   "execution_count": 43,
   "id": "54d5a82d",
   "metadata": {
    "scrolled": false
   },
   "outputs": [],
   "source": [
    "# tuned_xgboost.fit(X_train, y_train)"
   ]
  },
  {
   "cell_type": "code",
   "execution_count": 44,
   "id": "573232a0",
   "metadata": {},
   "outputs": [],
   "source": [
    "# tuned_xgboost.best_params_"
   ]
  },
  {
   "cell_type": "code",
   "execution_count": 45,
   "id": "5c4908b5",
   "metadata": {},
   "outputs": [],
   "source": [
    "tuned_xgboost_results = cross_validate(tuned_xgboost, X_train, y_train, scoring=scoring, cv=cv, n_jobs=-1)"
   ]
  },
  {
   "cell_type": "code",
   "execution_count": 46,
   "id": "c38029e9",
   "metadata": {},
   "outputs": [
    {
     "data": {
      "text/html": [
       "<div>\n",
       "<style scoped>\n",
       "    .dataframe tbody tr th:only-of-type {\n",
       "        vertical-align: middle;\n",
       "    }\n",
       "\n",
       "    .dataframe tbody tr th {\n",
       "        vertical-align: top;\n",
       "    }\n",
       "\n",
       "    .dataframe thead th {\n",
       "        text-align: right;\n",
       "    }\n",
       "</style>\n",
       "<table border=\"1\" class=\"dataframe\">\n",
       "  <thead>\n",
       "    <tr style=\"text-align: right;\">\n",
       "      <th></th>\n",
       "      <th>MAE</th>\n",
       "      <th>R2</th>\n",
       "    </tr>\n",
       "  </thead>\n",
       "  <tbody>\n",
       "    <tr>\n",
       "      <th>count</th>\n",
       "      <td>5.000000</td>\n",
       "      <td>5.000000</td>\n",
       "    </tr>\n",
       "    <tr>\n",
       "      <th>mean</th>\n",
       "      <td>-38.886574</td>\n",
       "      <td>0.876881</td>\n",
       "    </tr>\n",
       "    <tr>\n",
       "      <th>std</th>\n",
       "      <td>0.798537</td>\n",
       "      <td>0.010772</td>\n",
       "    </tr>\n",
       "    <tr>\n",
       "      <th>min</th>\n",
       "      <td>-40.031080</td>\n",
       "      <td>0.861428</td>\n",
       "    </tr>\n",
       "    <tr>\n",
       "      <th>25%</th>\n",
       "      <td>-39.391325</td>\n",
       "      <td>0.872857</td>\n",
       "    </tr>\n",
       "    <tr>\n",
       "      <th>50%</th>\n",
       "      <td>-38.536702</td>\n",
       "      <td>0.876112</td>\n",
       "    </tr>\n",
       "    <tr>\n",
       "      <th>75%</th>\n",
       "      <td>-38.335282</td>\n",
       "      <td>0.885647</td>\n",
       "    </tr>\n",
       "    <tr>\n",
       "      <th>max</th>\n",
       "      <td>-38.138478</td>\n",
       "      <td>0.888359</td>\n",
       "    </tr>\n",
       "  </tbody>\n",
       "</table>\n",
       "</div>"
      ],
      "text/plain": [
       "             MAE        R2\n",
       "count   5.000000  5.000000\n",
       "mean  -38.886574  0.876881\n",
       "std     0.798537  0.010772\n",
       "min   -40.031080  0.861428\n",
       "25%   -39.391325  0.872857\n",
       "50%   -38.536702  0.876112\n",
       "75%   -38.335282  0.885647\n",
       "max   -38.138478  0.888359"
      ]
     },
     "execution_count": 46,
     "metadata": {},
     "output_type": "execute_result"
    }
   ],
   "source": [
    "cross_validated_results(tuned_xgboost_results)"
   ]
  },
  {
   "cell_type": "markdown",
   "id": "9f3b9d46",
   "metadata": {},
   "source": [
    "# Final test set validation"
   ]
  },
  {
   "cell_type": "code",
   "execution_count": 47,
   "id": "f16dd971",
   "metadata": {},
   "outputs": [],
   "source": [
    "lm_model = pipe_lm.fit(X_train, y_train)"
   ]
  },
  {
   "cell_type": "code",
   "execution_count": 48,
   "id": "8c283f5d",
   "metadata": {},
   "outputs": [],
   "source": [
    "xgboost_model = pipe_xgboost.fit(X_train, y_train)"
   ]
  },
  {
   "cell_type": "code",
   "execution_count": 49,
   "id": "e5282510",
   "metadata": {},
   "outputs": [],
   "source": [
    "tuned_xgboost_model = tuned_xgboost.fit(X_train, y_train)"
   ]
  },
  {
   "cell_type": "code",
   "execution_count": 50,
   "id": "64573a3b",
   "metadata": {},
   "outputs": [],
   "source": [
    "def test_performance(model, X_test, y_test):\n",
    "    scores = {}\n",
    "    predictions = model.predict(X_test)\n",
    "    scores['mae'] = mean_absolute_error(y_test, predictions)\n",
    "    scores['r2'] = r2_score(y_test, predictions)\n",
    "    return scores"
   ]
  },
  {
   "cell_type": "code",
   "execution_count": 51,
   "id": "15841831",
   "metadata": {},
   "outputs": [
    {
     "data": {
      "text/plain": [
       "{'mae': 39.7884165164802, 'r2': 0.8870015433693806}"
      ]
     },
     "execution_count": 51,
     "metadata": {},
     "output_type": "execute_result"
    }
   ],
   "source": [
    "test_performance(lm_model, X_test, y_test)"
   ]
  },
  {
   "cell_type": "code",
   "execution_count": 52,
   "id": "19b47fb6",
   "metadata": {},
   "outputs": [
    {
     "data": {
      "text/plain": [
       "{'mae': 36.73000975700348, 'r2': 0.8931875130422338}"
      ]
     },
     "execution_count": 52,
     "metadata": {},
     "output_type": "execute_result"
    }
   ],
   "source": [
    "test_performance(xgboost_model, X_test, y_test)"
   ]
  },
  {
   "cell_type": "code",
   "execution_count": 53,
   "id": "c72e6474",
   "metadata": {},
   "outputs": [
    {
     "data": {
      "text/plain": [
       "{'mae': 35.10664303610096, 'r2': 0.903455954796118}"
      ]
     },
     "execution_count": 53,
     "metadata": {},
     "output_type": "execute_result"
    }
   ],
   "source": [
    "test_performance(tuned_xgboost_model, X_test, y_test)"
   ]
  },
  {
   "cell_type": "markdown",
   "id": "3727cdf3",
   "metadata": {},
   "source": [
    "# Feature importance"
   ]
  },
  {
   "cell_type": "code",
   "execution_count": 54,
   "id": "c3fcc1e5",
   "metadata": {},
   "outputs": [],
   "source": [
    "all_features_used = TRANSFORMED_FEATURES \\\n",
    "    + CATEGORICAL_FEATURES \\\n",
    "    + [\n",
    "        'count_surgery_diagnosis_codes',\n",
    "        'count_surgery_internal_codes',\n",
    "        'count_staff_main_surgeon_names',\n",
    "        'count_surgeon_anes_names',\n",
    "        'count_scrub_nurse_names',\n",
    "        'count_circulating_nurse_names',\n",
    "        'count_surgery_equipment_vendor_codes',\n",
    "    ] \\\n",
    "    + NUMERICAL_FEATURES"
   ]
  },
  {
   "cell_type": "code",
   "execution_count": 55,
   "id": "e85c9eda",
   "metadata": {},
   "outputs": [],
   "source": [
    "feature_importances = tuned_xgboost['xgboost'].feature_importances_"
   ]
  },
  {
   "cell_type": "code",
   "execution_count": 56,
   "id": "41a135c6",
   "metadata": {},
   "outputs": [],
   "source": [
    "assert(len(all_features_used)==len(feature_importances))"
   ]
  },
  {
   "cell_type": "code",
   "execution_count": 57,
   "id": "619114fd",
   "metadata": {},
   "outputs": [],
   "source": [
    "ranked_fi = [(feature, round(importance * 100, 2)) for feature, importance in zip(all_features_used, feature_importances)]"
   ]
  },
  {
   "cell_type": "code",
   "execution_count": 58,
   "id": "55526820",
   "metadata": {},
   "outputs": [
    {
     "data": {
      "text/plain": [
       "[('or_reservation_operation_duration', 50.39),\n",
       " ('on_call', 13.65),\n",
       " ('surgery_internal_code', 7.68),\n",
       " ('scrub_nurse_name2', 6.92),\n",
       " ('count_circulating_nurse_names', 3.7),\n",
       " ('surgery_anes_method_code', 3.29),\n",
       " ('scrub_nurse_name1', 2.68),\n",
       " ('count_surgery_internal_codes', 1.2),\n",
       " ('surgery_department_code', 1.02),\n",
       " ('count_scrub_nurse_names', 1.01),\n",
       " ('count_staff_main_surgeon_names', 0.77),\n",
       " ('surgery_diagnosis_code', 0.73),\n",
       " ('staff_main_surgeon_name', 0.6),\n",
       " ('surgeon_anes_name4', 0.54),\n",
       " ('surgery_position_name', 0.52),\n",
       " ('surgery_classification_name', 0.49),\n",
       " ('count_surgeon_anes_names', 0.41),\n",
       " ('surgeon_anes_name5', 0.36),\n",
       " ('surgery_equipment_vendor_code2', 0.33),\n",
       " ('circulating_nurse_name2', 0.32),\n",
       " ('or_vendor_code', 0.3),\n",
       " ('surgeon_anes_name2', 0.3),\n",
       " ('surgery_position_code2', 0.3),\n",
       " ('circulating_nurse_name1', 0.27),\n",
       " ('surgeon_anes_name3', 0.26),\n",
       " ('surgery_ward_code', 0.26),\n",
       " ('count_surgery_equipment_vendor_codes', 0.25),\n",
       " ('year', 0.22),\n",
       " ('surgeon_anes_name1', 0.21),\n",
       " ('surgery_equipment_vendor_code1', 0.21),\n",
       " ('wom', 0.2),\n",
       " ('month', 0.2),\n",
       " ('count_surgery_diagnosis_codes', 0.2),\n",
       " ('transformed_dow', 0.14),\n",
       " ('cancel', 0.06)]"
      ]
     },
     "execution_count": 58,
     "metadata": {},
     "output_type": "execute_result"
    }
   ],
   "source": [
    "sorted(ranked_fi, key=lambda t:t[1], reverse=True)"
   ]
  },
  {
   "cell_type": "markdown",
   "id": "938eae3e",
   "metadata": {},
   "source": [
    "# QA"
   ]
  },
  {
   "cell_type": "markdown",
   "id": "9e4bd51d",
   "metadata": {},
   "source": [
    "## Test ImpactEncodingTransformer"
   ]
  },
  {
   "cell_type": "code",
   "execution_count": 59,
   "id": "112763b4",
   "metadata": {},
   "outputs": [],
   "source": [
    "ie = ImpactEncodingTransformer()"
   ]
  },
  {
   "cell_type": "code",
   "execution_count": 60,
   "id": "e4d14e92",
   "metadata": {},
   "outputs": [
    {
     "data": {
      "text/html": [
       "<style>#sk-container-id-4 {color: black;background-color: white;}#sk-container-id-4 pre{padding: 0;}#sk-container-id-4 div.sk-toggleable {background-color: white;}#sk-container-id-4 label.sk-toggleable__label {cursor: pointer;display: block;width: 100%;margin-bottom: 0;padding: 0.3em;box-sizing: border-box;text-align: center;}#sk-container-id-4 label.sk-toggleable__label-arrow:before {content: \"▸\";float: left;margin-right: 0.25em;color: #696969;}#sk-container-id-4 label.sk-toggleable__label-arrow:hover:before {color: black;}#sk-container-id-4 div.sk-estimator:hover label.sk-toggleable__label-arrow:before {color: black;}#sk-container-id-4 div.sk-toggleable__content {max-height: 0;max-width: 0;overflow: hidden;text-align: left;background-color: #f0f8ff;}#sk-container-id-4 div.sk-toggleable__content pre {margin: 0.2em;color: black;border-radius: 0.25em;background-color: #f0f8ff;}#sk-container-id-4 input.sk-toggleable__control:checked~div.sk-toggleable__content {max-height: 200px;max-width: 100%;overflow: auto;}#sk-container-id-4 input.sk-toggleable__control:checked~label.sk-toggleable__label-arrow:before {content: \"▾\";}#sk-container-id-4 div.sk-estimator input.sk-toggleable__control:checked~label.sk-toggleable__label {background-color: #d4ebff;}#sk-container-id-4 div.sk-label input.sk-toggleable__control:checked~label.sk-toggleable__label {background-color: #d4ebff;}#sk-container-id-4 input.sk-hidden--visually {border: 0;clip: rect(1px 1px 1px 1px);clip: rect(1px, 1px, 1px, 1px);height: 1px;margin: -1px;overflow: hidden;padding: 0;position: absolute;width: 1px;}#sk-container-id-4 div.sk-estimator {font-family: monospace;background-color: #f0f8ff;border: 1px dotted black;border-radius: 0.25em;box-sizing: border-box;margin-bottom: 0.5em;}#sk-container-id-4 div.sk-estimator:hover {background-color: #d4ebff;}#sk-container-id-4 div.sk-parallel-item::after {content: \"\";width: 100%;border-bottom: 1px solid gray;flex-grow: 1;}#sk-container-id-4 div.sk-label:hover label.sk-toggleable__label {background-color: #d4ebff;}#sk-container-id-4 div.sk-serial::before {content: \"\";position: absolute;border-left: 1px solid gray;box-sizing: border-box;top: 0;bottom: 0;left: 50%;z-index: 0;}#sk-container-id-4 div.sk-serial {display: flex;flex-direction: column;align-items: center;background-color: white;padding-right: 0.2em;padding-left: 0.2em;position: relative;}#sk-container-id-4 div.sk-item {position: relative;z-index: 1;}#sk-container-id-4 div.sk-parallel {display: flex;align-items: stretch;justify-content: center;background-color: white;position: relative;}#sk-container-id-4 div.sk-item::before, #sk-container-id-4 div.sk-parallel-item::before {content: \"\";position: absolute;border-left: 1px solid gray;box-sizing: border-box;top: 0;bottom: 0;left: 50%;z-index: -1;}#sk-container-id-4 div.sk-parallel-item {display: flex;flex-direction: column;z-index: 1;position: relative;background-color: white;}#sk-container-id-4 div.sk-parallel-item:first-child::after {align-self: flex-end;width: 50%;}#sk-container-id-4 div.sk-parallel-item:last-child::after {align-self: flex-start;width: 50%;}#sk-container-id-4 div.sk-parallel-item:only-child::after {width: 0;}#sk-container-id-4 div.sk-dashed-wrapped {border: 1px dashed gray;margin: 0 0.4em 0.5em 0.4em;box-sizing: border-box;padding-bottom: 0.4em;background-color: white;}#sk-container-id-4 div.sk-label label {font-family: monospace;font-weight: bold;display: inline-block;line-height: 1.2em;}#sk-container-id-4 div.sk-label-container {text-align: center;}#sk-container-id-4 div.sk-container {/* jupyter's `normalize.less` sets `[hidden] { display: none; }` but bootstrap.min.css set `[hidden] { display: none !important; }` so we also need the `!important` here to be able to override the default hidden behavior on the sphinx rendered scikit-learn.org. See: https://github.com/scikit-learn/scikit-learn/issues/21755 */display: inline-block !important;position: relative;}#sk-container-id-4 div.sk-text-repr-fallback {display: none;}</style><div id=\"sk-container-id-4\" class=\"sk-top-container\"><div class=\"sk-text-repr-fallback\"><pre>ImpactEncodingTransformer()</pre><b>In a Jupyter environment, please rerun this cell to show the HTML representation or trust the notebook. <br />On GitHub, the HTML representation is unable to render, please try loading this page with nbviewer.org.</b></div><div class=\"sk-container\" hidden><div class=\"sk-item\"><div class=\"sk-estimator sk-toggleable\"><input class=\"sk-toggleable__control sk-hidden--visually\" id=\"sk-estimator-id-76\" type=\"checkbox\" checked><label for=\"sk-estimator-id-76\" class=\"sk-toggleable__label sk-toggleable__label-arrow\">ImpactEncodingTransformer</label><div class=\"sk-toggleable__content\"><pre>ImpactEncodingTransformer()</pre></div></div></div></div></div>"
      ],
      "text/plain": [
       "ImpactEncodingTransformer()"
      ]
     },
     "execution_count": 60,
     "metadata": {},
     "output_type": "execute_result"
    }
   ],
   "source": [
    "ie.fit(X_train[['surgery_classification_name', 'surgery_department_code']], y_train)"
   ]
  },
  {
   "cell_type": "code",
   "execution_count": 61,
   "id": "0c6e12c1",
   "metadata": {},
   "outputs": [
    {
     "data": {
      "text/html": [
       "<div>\n",
       "<style scoped>\n",
       "    .dataframe tbody tr th:only-of-type {\n",
       "        vertical-align: middle;\n",
       "    }\n",
       "\n",
       "    .dataframe tbody tr th {\n",
       "        vertical-align: top;\n",
       "    }\n",
       "\n",
       "    .dataframe thead th {\n",
       "        text-align: right;\n",
       "    }\n",
       "</style>\n",
       "<table border=\"1\" class=\"dataframe\">\n",
       "  <thead>\n",
       "    <tr style=\"text-align: right;\">\n",
       "      <th></th>\n",
       "      <th>surgery_classification_name</th>\n",
       "      <th>surgery_department_code</th>\n",
       "    </tr>\n",
       "  </thead>\n",
       "  <tbody>\n",
       "    <tr>\n",
       "      <th>9247</th>\n",
       "      <td>150</td>\n",
       "      <td>66</td>\n",
       "    </tr>\n",
       "    <tr>\n",
       "      <th>2733</th>\n",
       "      <td>218</td>\n",
       "      <td>271</td>\n",
       "    </tr>\n",
       "    <tr>\n",
       "      <th>8093</th>\n",
       "      <td>218</td>\n",
       "      <td>301</td>\n",
       "    </tr>\n",
       "    <tr>\n",
       "      <th>2966</th>\n",
       "      <td>218</td>\n",
       "      <td>264</td>\n",
       "    </tr>\n",
       "    <tr>\n",
       "      <th>3660</th>\n",
       "      <td>218</td>\n",
       "      <td>264</td>\n",
       "    </tr>\n",
       "    <tr>\n",
       "      <th>...</th>\n",
       "      <td>...</td>\n",
       "      <td>...</td>\n",
       "    </tr>\n",
       "    <tr>\n",
       "      <th>14863</th>\n",
       "      <td>218</td>\n",
       "      <td>21</td>\n",
       "    </tr>\n",
       "    <tr>\n",
       "      <th>10011</th>\n",
       "      <td>218</td>\n",
       "      <td>264</td>\n",
       "    </tr>\n",
       "    <tr>\n",
       "      <th>13392</th>\n",
       "      <td>218</td>\n",
       "      <td>520</td>\n",
       "    </tr>\n",
       "    <tr>\n",
       "      <th>5660</th>\n",
       "      <td>218</td>\n",
       "      <td>189</td>\n",
       "    </tr>\n",
       "    <tr>\n",
       "      <th>16039</th>\n",
       "      <td>218</td>\n",
       "      <td>66</td>\n",
       "    </tr>\n",
       "  </tbody>\n",
       "</table>\n",
       "<p>1761 rows × 2 columns</p>\n",
       "</div>"
      ],
      "text/plain": [
       "       surgery_classification_name  surgery_department_code\n",
       "9247                           150                       66\n",
       "2733                           218                      271\n",
       "8093                           218                      301\n",
       "2966                           218                      264\n",
       "3660                           218                      264\n",
       "...                            ...                      ...\n",
       "14863                          218                       21\n",
       "10011                          218                      264\n",
       "13392                          218                      520\n",
       "5660                           218                      189\n",
       "16039                          218                       66\n",
       "\n",
       "[1761 rows x 2 columns]"
      ]
     },
     "execution_count": 61,
     "metadata": {},
     "output_type": "execute_result"
    }
   ],
   "source": [
    "ie.transform(X_test)"
   ]
  },
  {
   "cell_type": "code",
   "execution_count": 62,
   "id": "3a2712ce",
   "metadata": {},
   "outputs": [],
   "source": [
    "ie.impact_mapping;"
   ]
  },
  {
   "cell_type": "markdown",
   "id": "54f4b28b",
   "metadata": {},
   "source": [
    "## Test CountTransformer"
   ]
  },
  {
   "cell_type": "code",
   "execution_count": 63,
   "id": "834c05e6",
   "metadata": {},
   "outputs": [],
   "source": [
    "temp = X[['surgery_diagnosis_code', \n",
    "    'surgery_diagnosis_code2', \n",
    "    'surgery_diagnosis_code3', \n",
    "    'surgery_diagnosis_code4', \n",
    "    'surgery_diagnosis_code5',]]"
   ]
  },
  {
   "cell_type": "code",
   "execution_count": 64,
   "id": "2872b0f7",
   "metadata": {},
   "outputs": [],
   "source": [
    "CountTransformer().fit_transform(temp);"
   ]
  },
  {
   "cell_type": "markdown",
   "id": "b8b53ca4",
   "metadata": {},
   "source": [
    "## Test pipeline"
   ]
  },
  {
   "cell_type": "code",
   "execution_count": 65,
   "id": "7f2cf007",
   "metadata": {},
   "outputs": [],
   "source": [
    "transformation = Pipeline(\n",
    "    steps=[\n",
    "        ('select_initial_features', FeatureSelectorTransformer(INITIAL_FEATURES)),\n",
    "        ('add_dow_transformer', AddDowTransformer()),\n",
    "        ('select_more_features', FeatureSelectorTransformer(TRANSFORMED_FEATURES + INITIAL_FEATURES)),\n",
    "        ('combine_all_transformers', combine_all_transformers),\n",
    "    ]\n",
    ")"
   ]
  },
  {
   "cell_type": "code",
   "execution_count": 66,
   "id": "bdec882d",
   "metadata": {},
   "outputs": [
    {
     "data": {
      "text/html": [
       "<style>#sk-container-id-5 {color: black;background-color: white;}#sk-container-id-5 pre{padding: 0;}#sk-container-id-5 div.sk-toggleable {background-color: white;}#sk-container-id-5 label.sk-toggleable__label {cursor: pointer;display: block;width: 100%;margin-bottom: 0;padding: 0.3em;box-sizing: border-box;text-align: center;}#sk-container-id-5 label.sk-toggleable__label-arrow:before {content: \"▸\";float: left;margin-right: 0.25em;color: #696969;}#sk-container-id-5 label.sk-toggleable__label-arrow:hover:before {color: black;}#sk-container-id-5 div.sk-estimator:hover label.sk-toggleable__label-arrow:before {color: black;}#sk-container-id-5 div.sk-toggleable__content {max-height: 0;max-width: 0;overflow: hidden;text-align: left;background-color: #f0f8ff;}#sk-container-id-5 div.sk-toggleable__content pre {margin: 0.2em;color: black;border-radius: 0.25em;background-color: #f0f8ff;}#sk-container-id-5 input.sk-toggleable__control:checked~div.sk-toggleable__content {max-height: 200px;max-width: 100%;overflow: auto;}#sk-container-id-5 input.sk-toggleable__control:checked~label.sk-toggleable__label-arrow:before {content: \"▾\";}#sk-container-id-5 div.sk-estimator input.sk-toggleable__control:checked~label.sk-toggleable__label {background-color: #d4ebff;}#sk-container-id-5 div.sk-label input.sk-toggleable__control:checked~label.sk-toggleable__label {background-color: #d4ebff;}#sk-container-id-5 input.sk-hidden--visually {border: 0;clip: rect(1px 1px 1px 1px);clip: rect(1px, 1px, 1px, 1px);height: 1px;margin: -1px;overflow: hidden;padding: 0;position: absolute;width: 1px;}#sk-container-id-5 div.sk-estimator {font-family: monospace;background-color: #f0f8ff;border: 1px dotted black;border-radius: 0.25em;box-sizing: border-box;margin-bottom: 0.5em;}#sk-container-id-5 div.sk-estimator:hover {background-color: #d4ebff;}#sk-container-id-5 div.sk-parallel-item::after {content: \"\";width: 100%;border-bottom: 1px solid gray;flex-grow: 1;}#sk-container-id-5 div.sk-label:hover label.sk-toggleable__label {background-color: #d4ebff;}#sk-container-id-5 div.sk-serial::before {content: \"\";position: absolute;border-left: 1px solid gray;box-sizing: border-box;top: 0;bottom: 0;left: 50%;z-index: 0;}#sk-container-id-5 div.sk-serial {display: flex;flex-direction: column;align-items: center;background-color: white;padding-right: 0.2em;padding-left: 0.2em;position: relative;}#sk-container-id-5 div.sk-item {position: relative;z-index: 1;}#sk-container-id-5 div.sk-parallel {display: flex;align-items: stretch;justify-content: center;background-color: white;position: relative;}#sk-container-id-5 div.sk-item::before, #sk-container-id-5 div.sk-parallel-item::before {content: \"\";position: absolute;border-left: 1px solid gray;box-sizing: border-box;top: 0;bottom: 0;left: 50%;z-index: -1;}#sk-container-id-5 div.sk-parallel-item {display: flex;flex-direction: column;z-index: 1;position: relative;background-color: white;}#sk-container-id-5 div.sk-parallel-item:first-child::after {align-self: flex-end;width: 50%;}#sk-container-id-5 div.sk-parallel-item:last-child::after {align-self: flex-start;width: 50%;}#sk-container-id-5 div.sk-parallel-item:only-child::after {width: 0;}#sk-container-id-5 div.sk-dashed-wrapped {border: 1px dashed gray;margin: 0 0.4em 0.5em 0.4em;box-sizing: border-box;padding-bottom: 0.4em;background-color: white;}#sk-container-id-5 div.sk-label label {font-family: monospace;font-weight: bold;display: inline-block;line-height: 1.2em;}#sk-container-id-5 div.sk-label-container {text-align: center;}#sk-container-id-5 div.sk-container {/* jupyter's `normalize.less` sets `[hidden] { display: none; }` but bootstrap.min.css set `[hidden] { display: none !important; }` so we also need the `!important` here to be able to override the default hidden behavior on the sphinx rendered scikit-learn.org. See: https://github.com/scikit-learn/scikit-learn/issues/21755 */display: inline-block !important;position: relative;}#sk-container-id-5 div.sk-text-repr-fallback {display: none;}</style><div id=\"sk-container-id-5\" class=\"sk-top-container\"><div class=\"sk-text-repr-fallback\"><pre>Pipeline(steps=[(&#x27;select_initial_features&#x27;,\n",
       "                 FeatureSelectorTransformer(features=[&#x27;dow&#x27;,\n",
       "                                                      &#x27;surgery_classification_name&#x27;,\n",
       "                                                      &#x27;surgery_department_code&#x27;,\n",
       "                                                      &#x27;surgery_diagnosis_code&#x27;,\n",
       "                                                      &#x27;surgery_diagnosis_code2&#x27;,\n",
       "                                                      &#x27;surgery_diagnosis_code3&#x27;,\n",
       "                                                      &#x27;surgery_diagnosis_code4&#x27;,\n",
       "                                                      &#x27;surgery_diagnosis_code5&#x27;,\n",
       "                                                      &#x27;surgery_internal_code&#x27;,\n",
       "                                                      &#x27;surgery_internal_code2&#x27;,\n",
       "                                                      &#x27;surgery_internal_code3&#x27;,\n",
       "                                                      &#x27;surg...\n",
       "                                                  CountTransformer(),\n",
       "                                                  [&#x27;surgery_equipment_vendor_code1&#x27;,\n",
       "                                                   &#x27;surgery_equipment_vendor_code2&#x27;,\n",
       "                                                   &#x27;surgery_equipment_vendor_code3&#x27;,\n",
       "                                                   &#x27;surgery_equipment_vendor_code4&#x27;,\n",
       "                                                   &#x27;surgery_equipment_vendor_code5&#x27;,\n",
       "                                                   &#x27;surgery_equipment_vendor_code6&#x27;,\n",
       "                                                   &#x27;surgery_equipment_vendor_code7&#x27;,\n",
       "                                                   &#x27;surgery_equipment_vendor_code8&#x27;]),\n",
       "                                                 (&#x27;passthrough&#x27;, &#x27;passthrough&#x27;,\n",
       "                                                  [&#x27;or_reservation_operation_duration&#x27;])]))])</pre><b>In a Jupyter environment, please rerun this cell to show the HTML representation or trust the notebook. <br />On GitHub, the HTML representation is unable to render, please try loading this page with nbviewer.org.</b></div><div class=\"sk-container\" hidden><div class=\"sk-item sk-dashed-wrapped\"><div class=\"sk-label-container\"><div class=\"sk-label sk-toggleable\"><input class=\"sk-toggleable__control sk-hidden--visually\" id=\"sk-estimator-id-77\" type=\"checkbox\" ><label for=\"sk-estimator-id-77\" class=\"sk-toggleable__label sk-toggleable__label-arrow\">Pipeline</label><div class=\"sk-toggleable__content\"><pre>Pipeline(steps=[(&#x27;select_initial_features&#x27;,\n",
       "                 FeatureSelectorTransformer(features=[&#x27;dow&#x27;,\n",
       "                                                      &#x27;surgery_classification_name&#x27;,\n",
       "                                                      &#x27;surgery_department_code&#x27;,\n",
       "                                                      &#x27;surgery_diagnosis_code&#x27;,\n",
       "                                                      &#x27;surgery_diagnosis_code2&#x27;,\n",
       "                                                      &#x27;surgery_diagnosis_code3&#x27;,\n",
       "                                                      &#x27;surgery_diagnosis_code4&#x27;,\n",
       "                                                      &#x27;surgery_diagnosis_code5&#x27;,\n",
       "                                                      &#x27;surgery_internal_code&#x27;,\n",
       "                                                      &#x27;surgery_internal_code2&#x27;,\n",
       "                                                      &#x27;surgery_internal_code3&#x27;,\n",
       "                                                      &#x27;surg...\n",
       "                                                  CountTransformer(),\n",
       "                                                  [&#x27;surgery_equipment_vendor_code1&#x27;,\n",
       "                                                   &#x27;surgery_equipment_vendor_code2&#x27;,\n",
       "                                                   &#x27;surgery_equipment_vendor_code3&#x27;,\n",
       "                                                   &#x27;surgery_equipment_vendor_code4&#x27;,\n",
       "                                                   &#x27;surgery_equipment_vendor_code5&#x27;,\n",
       "                                                   &#x27;surgery_equipment_vendor_code6&#x27;,\n",
       "                                                   &#x27;surgery_equipment_vendor_code7&#x27;,\n",
       "                                                   &#x27;surgery_equipment_vendor_code8&#x27;]),\n",
       "                                                 (&#x27;passthrough&#x27;, &#x27;passthrough&#x27;,\n",
       "                                                  [&#x27;or_reservation_operation_duration&#x27;])]))])</pre></div></div></div><div class=\"sk-serial\"><div class=\"sk-item\"><div class=\"sk-estimator sk-toggleable\"><input class=\"sk-toggleable__control sk-hidden--visually\" id=\"sk-estimator-id-78\" type=\"checkbox\" ><label for=\"sk-estimator-id-78\" class=\"sk-toggleable__label sk-toggleable__label-arrow\">FeatureSelectorTransformer</label><div class=\"sk-toggleable__content\"><pre>FeatureSelectorTransformer(features=[&#x27;dow&#x27;, &#x27;surgery_classification_name&#x27;,\n",
       "                                     &#x27;surgery_department_code&#x27;,\n",
       "                                     &#x27;surgery_diagnosis_code&#x27;,\n",
       "                                     &#x27;surgery_diagnosis_code2&#x27;,\n",
       "                                     &#x27;surgery_diagnosis_code3&#x27;,\n",
       "                                     &#x27;surgery_diagnosis_code4&#x27;,\n",
       "                                     &#x27;surgery_diagnosis_code5&#x27;,\n",
       "                                     &#x27;surgery_internal_code&#x27;,\n",
       "                                     &#x27;surgery_internal_code2&#x27;,\n",
       "                                     &#x27;surgery_internal_code3&#x27;,\n",
       "                                     &#x27;surgery_internal_code4&#x27;,\n",
       "                                     &#x27;surgery_anes_method_co...\n",
       "                                     &#x27;staff_main_surgeon_name&#x27;,\n",
       "                                     &#x27;staff_main_surgeon_name2&#x27;,\n",
       "                                     &#x27;staff_main_surgeon_name3&#x27;,\n",
       "                                     &#x27;staff_main_surgeon_name4&#x27;,\n",
       "                                     &#x27;staff_main_surgeon_name5&#x27;,\n",
       "                                     &#x27;staff_main_surgeon_name6&#x27;,\n",
       "                                     &#x27;staff_main_surgeon_name7&#x27;,\n",
       "                                     &#x27;staff_main_surgeon_name8&#x27;,\n",
       "                                     &#x27;surgeon_anes_name1&#x27;, &#x27;surgeon_anes_name2&#x27;,\n",
       "                                     &#x27;surgeon_anes_name3&#x27;, &#x27;surgeon_anes_name4&#x27;,\n",
       "                                     &#x27;surgeon_anes_name5&#x27;, &#x27;scrub_nurse_name1&#x27;,\n",
       "                                     &#x27;scrub_nurse_name2&#x27;, ...])</pre></div></div></div><div class=\"sk-item\"><div class=\"sk-estimator sk-toggleable\"><input class=\"sk-toggleable__control sk-hidden--visually\" id=\"sk-estimator-id-79\" type=\"checkbox\" ><label for=\"sk-estimator-id-79\" class=\"sk-toggleable__label sk-toggleable__label-arrow\">AddDowTransformer</label><div class=\"sk-toggleable__content\"><pre>AddDowTransformer()</pre></div></div></div><div class=\"sk-item\"><div class=\"sk-estimator sk-toggleable\"><input class=\"sk-toggleable__control sk-hidden--visually\" id=\"sk-estimator-id-80\" type=\"checkbox\" ><label for=\"sk-estimator-id-80\" class=\"sk-toggleable__label sk-toggleable__label-arrow\">FeatureSelectorTransformer</label><div class=\"sk-toggleable__content\"><pre>FeatureSelectorTransformer(features=[&#x27;transformed_dow&#x27;, &#x27;dow&#x27;,\n",
       "                                     &#x27;surgery_classification_name&#x27;,\n",
       "                                     &#x27;surgery_department_code&#x27;,\n",
       "                                     &#x27;surgery_diagnosis_code&#x27;,\n",
       "                                     &#x27;surgery_diagnosis_code2&#x27;,\n",
       "                                     &#x27;surgery_diagnosis_code3&#x27;,\n",
       "                                     &#x27;surgery_diagnosis_code4&#x27;,\n",
       "                                     &#x27;surgery_diagnosis_code5&#x27;,\n",
       "                                     &#x27;surgery_internal_code&#x27;,\n",
       "                                     &#x27;surgery_internal_code2&#x27;,\n",
       "                                     &#x27;surgery_internal_code3&#x27;,\n",
       "                                     &#x27;surgery_internal_code4&#x27;,\n",
       "                                     &#x27;surg...\n",
       "                                     &#x27;or_reservation_operation_duration&#x27;,\n",
       "                                     &#x27;staff_main_surgeon_name&#x27;,\n",
       "                                     &#x27;staff_main_surgeon_name2&#x27;,\n",
       "                                     &#x27;staff_main_surgeon_name3&#x27;,\n",
       "                                     &#x27;staff_main_surgeon_name4&#x27;,\n",
       "                                     &#x27;staff_main_surgeon_name5&#x27;,\n",
       "                                     &#x27;staff_main_surgeon_name6&#x27;,\n",
       "                                     &#x27;staff_main_surgeon_name7&#x27;,\n",
       "                                     &#x27;staff_main_surgeon_name8&#x27;,\n",
       "                                     &#x27;surgeon_anes_name1&#x27;, &#x27;surgeon_anes_name2&#x27;,\n",
       "                                     &#x27;surgeon_anes_name3&#x27;, &#x27;surgeon_anes_name4&#x27;,\n",
       "                                     &#x27;surgeon_anes_name5&#x27;, &#x27;scrub_nurse_name1&#x27;, ...])</pre></div></div></div><div class=\"sk-item sk-dashed-wrapped\"><div class=\"sk-label-container\"><div class=\"sk-label sk-toggleable\"><input class=\"sk-toggleable__control sk-hidden--visually\" id=\"sk-estimator-id-81\" type=\"checkbox\" ><label for=\"sk-estimator-id-81\" class=\"sk-toggleable__label sk-toggleable__label-arrow\">combine_all_transformers: ColumnTransformer</label><div class=\"sk-toggleable__content\"><pre>ColumnTransformer(transformers=[(&#x27;impactencodingtransformer&#x27;,\n",
       "                                 ImpactEncodingTransformer(),\n",
       "                                 [&#x27;transformed_dow&#x27;,\n",
       "                                  &#x27;surgery_classification_name&#x27;,\n",
       "                                  &#x27;surgery_department_code&#x27;,\n",
       "                                  &#x27;surgery_diagnosis_code&#x27;,\n",
       "                                  &#x27;surgery_internal_code&#x27;,\n",
       "                                  &#x27;surgery_anes_method_code&#x27;, &#x27;or_vendor_code&#x27;,\n",
       "                                  &#x27;staff_main_surgeon_name&#x27;,\n",
       "                                  &#x27;surgeon_anes_name1&#x27;, &#x27;surgeon_anes_name2&#x27;,\n",
       "                                  &#x27;surgeon_anes_name3&#x27;, &#x27;sur...\n",
       "                                (&#x27;counttransformer-7&#x27;, CountTransformer(),\n",
       "                                 [&#x27;surgery_equipment_vendor_code1&#x27;,\n",
       "                                  &#x27;surgery_equipment_vendor_code2&#x27;,\n",
       "                                  &#x27;surgery_equipment_vendor_code3&#x27;,\n",
       "                                  &#x27;surgery_equipment_vendor_code4&#x27;,\n",
       "                                  &#x27;surgery_equipment_vendor_code5&#x27;,\n",
       "                                  &#x27;surgery_equipment_vendor_code6&#x27;,\n",
       "                                  &#x27;surgery_equipment_vendor_code7&#x27;,\n",
       "                                  &#x27;surgery_equipment_vendor_code8&#x27;]),\n",
       "                                (&#x27;passthrough&#x27;, &#x27;passthrough&#x27;,\n",
       "                                 [&#x27;or_reservation_operation_duration&#x27;])])</pre></div></div></div><div class=\"sk-parallel\"><div class=\"sk-parallel-item\"><div class=\"sk-item\"><div class=\"sk-label-container\"><div class=\"sk-label sk-toggleable\"><input class=\"sk-toggleable__control sk-hidden--visually\" id=\"sk-estimator-id-82\" type=\"checkbox\" ><label for=\"sk-estimator-id-82\" class=\"sk-toggleable__label sk-toggleable__label-arrow\">impactencodingtransformer</label><div class=\"sk-toggleable__content\"><pre>[&#x27;transformed_dow&#x27;, &#x27;surgery_classification_name&#x27;, &#x27;surgery_department_code&#x27;, &#x27;surgery_diagnosis_code&#x27;, &#x27;surgery_internal_code&#x27;, &#x27;surgery_anes_method_code&#x27;, &#x27;or_vendor_code&#x27;, &#x27;staff_main_surgeon_name&#x27;, &#x27;surgeon_anes_name1&#x27;, &#x27;surgeon_anes_name2&#x27;, &#x27;surgeon_anes_name3&#x27;, &#x27;surgeon_anes_name4&#x27;, &#x27;surgeon_anes_name5&#x27;, &#x27;scrub_nurse_name1&#x27;, &#x27;scrub_nurse_name2&#x27;, &#x27;circulating_nurse_name1&#x27;, &#x27;circulating_nurse_name2&#x27;, &#x27;surgery_ward_code&#x27;, &#x27;surgery_position_code2&#x27;, &#x27;surgery_position_name&#x27;, &#x27;surgery_equipment_vendor_code1&#x27;, &#x27;surgery_equipment_vendor_code2&#x27;, &#x27;on_call&#x27;, &#x27;cancel&#x27;, &#x27;wom&#x27;, &#x27;month&#x27;, &#x27;year&#x27;]</pre></div></div></div><div class=\"sk-serial\"><div class=\"sk-item\"><div class=\"sk-estimator sk-toggleable\"><input class=\"sk-toggleable__control sk-hidden--visually\" id=\"sk-estimator-id-83\" type=\"checkbox\" ><label for=\"sk-estimator-id-83\" class=\"sk-toggleable__label sk-toggleable__label-arrow\">ImpactEncodingTransformer</label><div class=\"sk-toggleable__content\"><pre>ImpactEncodingTransformer()</pre></div></div></div></div></div></div><div class=\"sk-parallel-item\"><div class=\"sk-item\"><div class=\"sk-label-container\"><div class=\"sk-label sk-toggleable\"><input class=\"sk-toggleable__control sk-hidden--visually\" id=\"sk-estimator-id-84\" type=\"checkbox\" ><label for=\"sk-estimator-id-84\" class=\"sk-toggleable__label sk-toggleable__label-arrow\">counttransformer-1</label><div class=\"sk-toggleable__content\"><pre>[&#x27;surgery_diagnosis_code&#x27;, &#x27;surgery_diagnosis_code2&#x27;, &#x27;surgery_diagnosis_code3&#x27;, &#x27;surgery_diagnosis_code4&#x27;, &#x27;surgery_diagnosis_code5&#x27;]</pre></div></div></div><div class=\"sk-serial\"><div class=\"sk-item\"><div class=\"sk-estimator sk-toggleable\"><input class=\"sk-toggleable__control sk-hidden--visually\" id=\"sk-estimator-id-85\" type=\"checkbox\" ><label for=\"sk-estimator-id-85\" class=\"sk-toggleable__label sk-toggleable__label-arrow\">CountTransformer</label><div class=\"sk-toggleable__content\"><pre>CountTransformer()</pre></div></div></div></div></div></div><div class=\"sk-parallel-item\"><div class=\"sk-item\"><div class=\"sk-label-container\"><div class=\"sk-label sk-toggleable\"><input class=\"sk-toggleable__control sk-hidden--visually\" id=\"sk-estimator-id-86\" type=\"checkbox\" ><label for=\"sk-estimator-id-86\" class=\"sk-toggleable__label sk-toggleable__label-arrow\">counttransformer-2</label><div class=\"sk-toggleable__content\"><pre>[&#x27;surgery_internal_code&#x27;, &#x27;surgery_internal_code2&#x27;, &#x27;surgery_internal_code3&#x27;, &#x27;surgery_internal_code4&#x27;]</pre></div></div></div><div class=\"sk-serial\"><div class=\"sk-item\"><div class=\"sk-estimator sk-toggleable\"><input class=\"sk-toggleable__control sk-hidden--visually\" id=\"sk-estimator-id-87\" type=\"checkbox\" ><label for=\"sk-estimator-id-87\" class=\"sk-toggleable__label sk-toggleable__label-arrow\">CountTransformer</label><div class=\"sk-toggleable__content\"><pre>CountTransformer()</pre></div></div></div></div></div></div><div class=\"sk-parallel-item\"><div class=\"sk-item\"><div class=\"sk-label-container\"><div class=\"sk-label sk-toggleable\"><input class=\"sk-toggleable__control sk-hidden--visually\" id=\"sk-estimator-id-88\" type=\"checkbox\" ><label for=\"sk-estimator-id-88\" class=\"sk-toggleable__label sk-toggleable__label-arrow\">counttransformer-3</label><div class=\"sk-toggleable__content\"><pre>[&#x27;staff_main_surgeon_name&#x27;, &#x27;staff_main_surgeon_name2&#x27;, &#x27;staff_main_surgeon_name3&#x27;, &#x27;staff_main_surgeon_name4&#x27;, &#x27;staff_main_surgeon_name5&#x27;, &#x27;staff_main_surgeon_name6&#x27;, &#x27;staff_main_surgeon_name7&#x27;, &#x27;staff_main_surgeon_name8&#x27;]</pre></div></div></div><div class=\"sk-serial\"><div class=\"sk-item\"><div class=\"sk-estimator sk-toggleable\"><input class=\"sk-toggleable__control sk-hidden--visually\" id=\"sk-estimator-id-89\" type=\"checkbox\" ><label for=\"sk-estimator-id-89\" class=\"sk-toggleable__label sk-toggleable__label-arrow\">CountTransformer</label><div class=\"sk-toggleable__content\"><pre>CountTransformer()</pre></div></div></div></div></div></div><div class=\"sk-parallel-item\"><div class=\"sk-item\"><div class=\"sk-label-container\"><div class=\"sk-label sk-toggleable\"><input class=\"sk-toggleable__control sk-hidden--visually\" id=\"sk-estimator-id-90\" type=\"checkbox\" ><label for=\"sk-estimator-id-90\" class=\"sk-toggleable__label sk-toggleable__label-arrow\">counttransformer-4</label><div class=\"sk-toggleable__content\"><pre>[&#x27;surgeon_anes_name1&#x27;, &#x27;surgeon_anes_name2&#x27;, &#x27;surgeon_anes_name3&#x27;, &#x27;surgeon_anes_name4&#x27;, &#x27;surgeon_anes_name5&#x27;]</pre></div></div></div><div class=\"sk-serial\"><div class=\"sk-item\"><div class=\"sk-estimator sk-toggleable\"><input class=\"sk-toggleable__control sk-hidden--visually\" id=\"sk-estimator-id-91\" type=\"checkbox\" ><label for=\"sk-estimator-id-91\" class=\"sk-toggleable__label sk-toggleable__label-arrow\">CountTransformer</label><div class=\"sk-toggleable__content\"><pre>CountTransformer()</pre></div></div></div></div></div></div><div class=\"sk-parallel-item\"><div class=\"sk-item\"><div class=\"sk-label-container\"><div class=\"sk-label sk-toggleable\"><input class=\"sk-toggleable__control sk-hidden--visually\" id=\"sk-estimator-id-92\" type=\"checkbox\" ><label for=\"sk-estimator-id-92\" class=\"sk-toggleable__label sk-toggleable__label-arrow\">counttransformer-5</label><div class=\"sk-toggleable__content\"><pre>[&#x27;scrub_nurse_name1&#x27;, &#x27;scrub_nurse_name2&#x27;, &#x27;scrub_nurse_name3&#x27;, &#x27;scrub_nurse_name4&#x27;]</pre></div></div></div><div class=\"sk-serial\"><div class=\"sk-item\"><div class=\"sk-estimator sk-toggleable\"><input class=\"sk-toggleable__control sk-hidden--visually\" id=\"sk-estimator-id-93\" type=\"checkbox\" ><label for=\"sk-estimator-id-93\" class=\"sk-toggleable__label sk-toggleable__label-arrow\">CountTransformer</label><div class=\"sk-toggleable__content\"><pre>CountTransformer()</pre></div></div></div></div></div></div><div class=\"sk-parallel-item\"><div class=\"sk-item\"><div class=\"sk-label-container\"><div class=\"sk-label sk-toggleable\"><input class=\"sk-toggleable__control sk-hidden--visually\" id=\"sk-estimator-id-94\" type=\"checkbox\" ><label for=\"sk-estimator-id-94\" class=\"sk-toggleable__label sk-toggleable__label-arrow\">counttransformer-6</label><div class=\"sk-toggleable__content\"><pre>[&#x27;circulating_nurse_name1&#x27;, &#x27;circulating_nurse_name2&#x27;, &#x27;circulating_nurse_name3&#x27;, &#x27;circulating_nurse_name4&#x27;]</pre></div></div></div><div class=\"sk-serial\"><div class=\"sk-item\"><div class=\"sk-estimator sk-toggleable\"><input class=\"sk-toggleable__control sk-hidden--visually\" id=\"sk-estimator-id-95\" type=\"checkbox\" ><label for=\"sk-estimator-id-95\" class=\"sk-toggleable__label sk-toggleable__label-arrow\">CountTransformer</label><div class=\"sk-toggleable__content\"><pre>CountTransformer()</pre></div></div></div></div></div></div><div class=\"sk-parallel-item\"><div class=\"sk-item\"><div class=\"sk-label-container\"><div class=\"sk-label sk-toggleable\"><input class=\"sk-toggleable__control sk-hidden--visually\" id=\"sk-estimator-id-96\" type=\"checkbox\" ><label for=\"sk-estimator-id-96\" class=\"sk-toggleable__label sk-toggleable__label-arrow\">counttransformer-7</label><div class=\"sk-toggleable__content\"><pre>[&#x27;surgery_equipment_vendor_code1&#x27;, &#x27;surgery_equipment_vendor_code2&#x27;, &#x27;surgery_equipment_vendor_code3&#x27;, &#x27;surgery_equipment_vendor_code4&#x27;, &#x27;surgery_equipment_vendor_code5&#x27;, &#x27;surgery_equipment_vendor_code6&#x27;, &#x27;surgery_equipment_vendor_code7&#x27;, &#x27;surgery_equipment_vendor_code8&#x27;]</pre></div></div></div><div class=\"sk-serial\"><div class=\"sk-item\"><div class=\"sk-estimator sk-toggleable\"><input class=\"sk-toggleable__control sk-hidden--visually\" id=\"sk-estimator-id-97\" type=\"checkbox\" ><label for=\"sk-estimator-id-97\" class=\"sk-toggleable__label sk-toggleable__label-arrow\">CountTransformer</label><div class=\"sk-toggleable__content\"><pre>CountTransformer()</pre></div></div></div></div></div></div><div class=\"sk-parallel-item\"><div class=\"sk-item\"><div class=\"sk-label-container\"><div class=\"sk-label sk-toggleable\"><input class=\"sk-toggleable__control sk-hidden--visually\" id=\"sk-estimator-id-98\" type=\"checkbox\" ><label for=\"sk-estimator-id-98\" class=\"sk-toggleable__label sk-toggleable__label-arrow\">passthrough</label><div class=\"sk-toggleable__content\"><pre>[&#x27;or_reservation_operation_duration&#x27;]</pre></div></div></div><div class=\"sk-serial\"><div class=\"sk-item\"><div class=\"sk-estimator sk-toggleable\"><input class=\"sk-toggleable__control sk-hidden--visually\" id=\"sk-estimator-id-99\" type=\"checkbox\" ><label for=\"sk-estimator-id-99\" class=\"sk-toggleable__label sk-toggleable__label-arrow\">passthrough</label><div class=\"sk-toggleable__content\"><pre>passthrough</pre></div></div></div></div></div></div></div></div></div></div></div></div>"
      ],
      "text/plain": [
       "Pipeline(steps=[('select_initial_features',\n",
       "                 FeatureSelectorTransformer(features=['dow',\n",
       "                                                      'surgery_classification_name',\n",
       "                                                      'surgery_department_code',\n",
       "                                                      'surgery_diagnosis_code',\n",
       "                                                      'surgery_diagnosis_code2',\n",
       "                                                      'surgery_diagnosis_code3',\n",
       "                                                      'surgery_diagnosis_code4',\n",
       "                                                      'surgery_diagnosis_code5',\n",
       "                                                      'surgery_internal_code',\n",
       "                                                      'surgery_internal_code2',\n",
       "                                                      'surgery_internal_code3',\n",
       "                                                      'surg...\n",
       "                                                  CountTransformer(),\n",
       "                                                  ['surgery_equipment_vendor_code1',\n",
       "                                                   'surgery_equipment_vendor_code2',\n",
       "                                                   'surgery_equipment_vendor_code3',\n",
       "                                                   'surgery_equipment_vendor_code4',\n",
       "                                                   'surgery_equipment_vendor_code5',\n",
       "                                                   'surgery_equipment_vendor_code6',\n",
       "                                                   'surgery_equipment_vendor_code7',\n",
       "                                                   'surgery_equipment_vendor_code8']),\n",
       "                                                 ('passthrough', 'passthrough',\n",
       "                                                  ['or_reservation_operation_duration'])]))])"
      ]
     },
     "execution_count": 66,
     "metadata": {},
     "output_type": "execute_result"
    }
   ],
   "source": [
    "transformation.fit(X_train, y_train)"
   ]
  },
  {
   "cell_type": "code",
   "execution_count": 67,
   "id": "a02c266b",
   "metadata": {
    "scrolled": false
   },
   "outputs": [
    {
     "data": {
      "text/plain": [
       "array([[166, 150,  66, ...,   1,   0,  30],\n",
       "       [279, 218, 271, ...,   1,   0,  90],\n",
       "       [279, 218, 301, ...,   1,   1, 180],\n",
       "       ...,\n",
       "       [222, 218, 520, ...,   1,   4, 370],\n",
       "       [298, 218, 189, ...,   1,   3, 240],\n",
       "       [166, 218,  66, ...,   2,   0,  45]], dtype=int64)"
      ]
     },
     "execution_count": 67,
     "metadata": {},
     "output_type": "execute_result"
    }
   ],
   "source": [
    "transformation.transform(X_test)"
   ]
  },
  {
   "cell_type": "markdown",
   "id": "c9a90b9d",
   "metadata": {},
   "source": [
    "## Test AddDowTransformer"
   ]
  },
  {
   "cell_type": "code",
   "execution_count": 68,
   "id": "05be7af2",
   "metadata": {},
   "outputs": [],
   "source": [
    "AddDowTransformer().fit_transform(X_train, y_train);"
   ]
  },
  {
   "cell_type": "code",
   "execution_count": null,
   "id": "fee3fa8c",
   "metadata": {},
   "outputs": [],
   "source": []
  }
 ],
 "metadata": {
  "kernelspec": {
   "display_name": "Python 3 (ipykernel)",
   "language": "python",
   "name": "python3"
  },
  "language_info": {
   "codemirror_mode": {
    "name": "ipython",
    "version": 3
   },
   "file_extension": ".py",
   "mimetype": "text/x-python",
   "name": "python",
   "nbconvert_exporter": "python",
   "pygments_lexer": "ipython3",
   "version": "3.8.5"
  }
 },
 "nbformat": 4,
 "nbformat_minor": 5
}
